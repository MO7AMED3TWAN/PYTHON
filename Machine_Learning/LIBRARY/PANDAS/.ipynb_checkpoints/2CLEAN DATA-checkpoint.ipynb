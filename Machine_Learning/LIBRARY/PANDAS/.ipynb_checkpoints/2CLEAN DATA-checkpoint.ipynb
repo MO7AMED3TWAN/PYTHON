{
 "cells": [
  {
   "cell_type": "markdown",
   "id": "1b894b78",
   "metadata": {},
   "source": [
    "## clean by SimpleImputer"
   ]
  },
  {
   "cell_type": "code",
   "execution_count": 38,
   "id": "4952d4be",
   "metadata": {},
   "outputs": [],
   "source": [
    "import pandas as pd\n",
    "from sklearn.impute import SimpleImputer\n",
    "import numpy as np\n",
    "'''\n",
    "impute.SimpleImputer(missing_values=nan.zero.or any value you want,\n",
    "                    strategy='mean','median','most_frequent',)\n",
    "'''\n",
    "\n",
    "data=pd.read_excel(r\"C:\\Users\\MoHaMeD\\Desktop\\SKlearn_files-master\\test.xlsx\")#my data\n",
    "\n",
    "ImputedModule = SimpleImputer(missing_values = np.nan, strategy ='mean')#object from class\n",
    "\n",
    "Imputeddata = ImputedModule.fit(data)\n",
    "data = Imputeddata.transform(data)\n",
    "\n",
    "\n",
    "data=pd.DataFrame(data) # covirt data into data frame to show it and save it \n",
    "\n",
    "# data.to_excel(\"output.xlsx\") #to save data after clean it"
   ]
  }
 ],
 "metadata": {
  "kernelspec": {
   "display_name": "Python 3 (ipykernel)",
   "language": "python",
   "name": "python3"
  },
  "language_info": {
   "codemirror_mode": {
    "name": "ipython",
    "version": 3
   },
   "file_extension": ".py",
   "mimetype": "text/x-python",
   "name": "python",
   "nbconvert_exporter": "python",
   "pygments_lexer": "ipython3",
   "version": "3.10.8"
  }
 },
 "nbformat": 4,
 "nbformat_minor": 5
}
