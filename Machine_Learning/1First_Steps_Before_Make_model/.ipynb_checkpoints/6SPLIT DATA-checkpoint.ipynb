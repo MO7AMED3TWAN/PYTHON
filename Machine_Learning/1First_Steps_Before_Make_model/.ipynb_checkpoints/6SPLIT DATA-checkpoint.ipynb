{
 "cells": [
  {
   "cell_type": "code",
   "execution_count": 35,
   "id": "ccaec3d2",
   "metadata": {
    "collapsed": true
   },
   "outputs": [
    {
     "name": "stdout",
     "output_type": "stream",
     "text": [
      "X shape is  (20640, 7)\n",
      "y shape is  (20640,)\n",
      "X_train shape is  (15480, 7)\n",
      "X_test shape is  (5160, 7)\n",
      "y_train shape is  (15480,)\n",
      "y_test shape is  (5160,)\n"
     ]
    }
   ],
   "source": [
    "from sklearn.model_selection import train_test_split\n",
    "import pandas as pd\n",
    "#importing data\n",
    "data=pd.read_csv(r\"D:\\SOME_THINGS\\Projects\\python-examples\\Note_Book\\Machine_Learning\\PANDAS\\1.csv\")\n",
    "X = data.iloc[:,0:-1]\n",
    "y = data.iloc[:,-1]\n",
    "#original data\n",
    "print(\"X shape is \",X.shape)\n",
    "print(\"y shape is \",y.shape)\n",
    "#Splitting data\n",
    "X_train, X_test, y_train, y_test = train_test_split(X, y, test_size=0.25, random_state=4444, shuffle =True)\n",
    "#Splitted Data\n",
    "print('X_train shape is ' , X_train.shape)\n",
    "print('X_test shape is ' , X_test.shape)\n",
    "print('y_train shape is ' , y_train.shape)\n",
    "print('y_test shape is ' , y_test.shape)"
   ]
  },
  {
   "cell_type": "code",
   "execution_count": null,
   "id": "62a3ead2",
   "metadata": {},
   "outputs": [],
   "source": []
  }
 ],
 "metadata": {
  "kernelspec": {
   "display_name": "Python 3 (ipykernel)",
   "language": "python",
   "name": "python3"
  },
  "language_info": {
   "codemirror_mode": {
    "name": "ipython",
    "version": 3
   },
   "file_extension": ".py",
   "mimetype": "text/x-python",
   "name": "python",
   "nbconvert_exporter": "python",
   "pygments_lexer": "ipython3",
   "version": "3.10.8"
  }
 },
 "nbformat": 4,
 "nbformat_minor": 5
}
