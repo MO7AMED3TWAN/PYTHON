{
 "cells": [
  {
   "cell_type": "markdown",
   "id": "18859499",
   "metadata": {},
   "source": [
    "## StandardScaler"
   ]
  },
  {
   "cell_type": "code",
   "execution_count": 9,
   "id": "cc28ebd2",
   "metadata": {
    "collapsed": true
   },
   "outputs": [
    {
     "name": "stdout",
     "output_type": "stream",
     "text": [
      "X [[ 0.71096741]\n",
      " [ 1.29179448]\n",
      " [ 3.65462727]\n",
      " [-0.78222146]\n",
      " [-0.43225941]\n",
      " [ 0.26368607]\n",
      " [-0.61485741]\n",
      " [-0.00777664]\n",
      " [-0.0804651 ]\n",
      " [-0.03793044]\n",
      " [-0.68958753]\n",
      " [ 1.20279889]\n",
      " [-0.49403282]\n",
      " [-0.74178082]\n",
      " [-0.35553998]\n",
      " [ 0.90754295]\n",
      " [-0.64577029]\n",
      " [-0.10891751]\n",
      " [-0.30041507]\n",
      " [-0.82991263]\n",
      " [-0.63851977]\n",
      " [ 0.90544894]\n",
      " [-0.70652286]\n",
      " [-0.18338587]\n",
      " [-0.76774659]\n",
      " [-0.2138276 ]\n",
      " [-0.16692169]\n",
      " [-0.4994249 ]\n",
      " [-0.49259318]\n",
      " [-0.51476355]\n",
      " [-0.68084502]\n",
      " [ 0.27991467]\n",
      " [ 0.31744987]\n",
      " [ 0.15301744]\n",
      " [-0.80135551]\n",
      " [ 3.41276867]\n",
      " [ 1.74514846]\n",
      " [ 2.80550468]\n",
      " [-0.26766993]\n",
      " [ 0.0142105 ]\n",
      " [ 0.52224442]\n",
      " [-0.71756879]\n",
      " [ 3.16724556]\n",
      " [ 0.49606924]\n",
      " [-0.2372282 ]\n",
      " [-0.58491301]\n",
      " [-0.26565444]\n",
      " [-0.84124647]\n",
      " [-0.44312211]\n",
      " [-0.18380468]\n",
      " [-0.83873366]\n",
      " [ 0.53219098]\n",
      " [-0.82009694]\n",
      " [-0.65741824]\n",
      " [-0.79897357]\n",
      " [-0.49343079]\n",
      " [ 0.39992784]\n",
      " [-0.45149816]\n",
      " [ 0.07234556]\n",
      " [ 0.24588695]\n",
      " [-0.58601237]\n",
      " [-0.712072  ]\n",
      " [-0.83273954]\n",
      " [-0.6630459 ]\n",
      " [-0.15815301]\n",
      " [-0.62038037]\n",
      " [-0.76834862]\n",
      " [ 0.01376552]\n",
      " [ 1.34885635]\n",
      " [-0.73392827]]\n",
      "y [[ 0.41899297]\n",
      " [ 1.95026759]\n",
      " [ 3.84400642]\n",
      " [-1.23674165]\n",
      " [ 0.20866879]\n",
      " [ 1.43792661]\n",
      " [-0.6219525 ]\n",
      " [ 0.31802695]\n",
      " [-0.07860669]\n",
      " [-0.16791585]\n",
      " [-0.31284545]\n",
      " [ 1.03394235]\n",
      " [ 0.10868419]\n",
      " [-0.88091303]\n",
      " [-0.2089552 ]\n",
      " [ 0.08625174]\n",
      " [-0.50356128]\n",
      " [ 0.35592175]\n",
      " [-0.78282517]\n",
      " [ 0.03583883]\n",
      " [-0.6230541 ]\n",
      " [ 0.61079036]\n",
      " [-0.78851339]\n",
      " [ 0.35964714]\n",
      " [-0.62393537]\n",
      " [-0.133446  ]\n",
      " [ 0.00867955]\n",
      " [-0.70731596]\n",
      " [-1.2770199 ]\n",
      " [-0.49655114]\n",
      " [-0.07021455]\n",
      " [-0.19876046]\n",
      " [ 0.09200006]\n",
      " [ 0.04298917]\n",
      " [-1.14116141]\n",
      " [ 2.59860525]\n",
      " [ 1.42190344]\n",
      " [ 2.42335179]\n",
      " [-0.01393315]\n",
      " [ 0.15811568]\n",
      " [ 0.56494405]\n",
      " [-0.78863357]\n",
      " [ 3.21209251]\n",
      " [ 0.34552672]\n",
      " [-0.18604206]\n",
      " [-0.73633793]\n",
      " [-0.32320043]\n",
      " [-1.52930477]\n",
      " [-0.93294628]\n",
      " [-0.21436302]\n",
      " [ 0.14954328]\n",
      " [ 0.36008778]\n",
      " [-0.58027222]\n",
      " [-0.89634334]\n",
      " [-0.95148709]\n",
      " [-0.85646968]\n",
      " [ 0.51849688]\n",
      " [ 0.07787963]\n",
      " [-0.14285961]\n",
      " [ 0.36920096]\n",
      " [-0.80672974]\n",
      " [-0.96194422]\n",
      " [-0.42729097]\n",
      " [-0.62283378]\n",
      " [-0.13196385]\n",
      " [ 0.45027822]\n",
      " [-0.5944327 ]\n",
      " [-0.96343838]\n",
      " [ 0.82125475]\n",
      " [-0.86879951]]\n"
     ]
    }
   ],
   "source": [
    "from sklearn.preprocessing import StandardScaler\n",
    "import pandas as pd\n",
    "#### READ & IDENTIFY DATA ####\n",
    "path = r\"D:\\SOME_THINGS\\Projects\\python-examples\\Note_Book\\Machine_Learning\\STANDARD_LINEAR_REGRESSION\\test.csv\"\n",
    "data = pd.read_csv(path, header=None, names=[\"x\", \"y\"])\n",
    "X=data[[\"x\"]]   # X is the input\n",
    "y=data[[\"y\"]]   # y is the output\n",
    "f_data = X\n",
    "t_data = y\n",
    "scaler = StandardScaler()\n",
    "\n",
    "f_data1 = scaler.fit_transform(f_data) \n",
    "print(\"X\",f_data1)\n",
    "t_data1 = scaler.fit_transform(t_data) \n",
    "print(\"y\",t_data1)\n",
    "\n"
   ]
  },
  {
   "cell_type": "markdown",
   "id": "3b459dc1",
   "metadata": {},
   "source": [
    "## MinMaxScaler"
   ]
  },
  {
   "cell_type": "code",
   "execution_count": 20,
   "id": "25d5185c",
   "metadata": {},
   "outputs": [
    {
     "name": "stdout",
     "output_type": "stream",
     "text": [
      "[[0.   0.  ]\n",
      " [0.25 0.25]\n",
      " [0.5  0.5 ]\n",
      " [1.   1.  ]]\n",
      "range [ 2. 16.]\n",
      "min [-1.  2.]\n",
      "max [ 1. 18.]\n"
     ]
    }
   ],
   "source": [
    "from sklearn.preprocessing import MinMaxScaler\n",
    "data = [[-1, 2], [-0.5, 6], [0, 10], [1, 18]]\n",
    "scaler = MinMaxScaler() ## MinMaxScaler(copy=True, feature_range=(0, 1))\n",
    "scaler.fit(data)\n",
    "newdata = scaler.fit_transform(data)\n",
    "\n",
    "print(newdata)\n",
    "\n",
    "### some of attributes\n",
    "print(\"range\",scaler.data_range_)\n",
    "print(\"min\",scaler.data_min_)\n",
    "print(\"max\",scaler.data_max_)\n",
    "### some of attributes"
   ]
  },
  {
   "cell_type": "markdown",
   "id": "1441650b",
   "metadata": {},
   "source": [
    "## Normalizer RAWS"
   ]
  },
  {
   "cell_type": "code",
   "execution_count": 32,
   "id": "1ba4ee70",
   "metadata": {},
   "outputs": [
    {
     "name": "stdout",
     "output_type": "stream",
     "text": [
      "N1\n",
      " [[0.44444444 0.11111111 0.22222222 0.22222222]\n",
      " [0.0625     0.1875     0.5625     0.1875    ]\n",
      " [0.27777778 0.38888889 0.27777778 0.05555556]]\n",
      "N2\n",
      " [[0.8 0.2 0.4 0.4]\n",
      " [0.1 0.3 0.9 0.3]\n",
      " [0.5 0.7 0.5 0.1]]\n",
      "N3\n",
      " [[1.         0.25       0.5        0.5       ]\n",
      " [0.11111111 0.33333333 1.         0.33333333]\n",
      " [0.71428571 1.         0.71428571 0.14285714]]\n"
     ]
    }
   ],
   "source": [
    "from sklearn.preprocessing import Normalizer\n",
    "X = [[4, 1, 2, 2], \n",
    "     [1, 3, 9, 3], \n",
    "     [5, 7, 5, 1]]\n",
    "\n",
    "\n",
    "transformer1 = Normalizer(norm='l1' )\n",
    "\n",
    "transformer2 = Normalizer(norm='l2' )\n",
    "\n",
    "transformer3 = Normalizer(norm='max' )\n",
    "\n",
    "N1=transformer1.fit_transform(X)\n",
    "N2=transformer2.fit_transform(X)\n",
    "N3=transformer3.fit_transform(X)\n",
    "\n",
    "\n",
    "print(\"N1\\n\",N1)\n",
    "print(\"N2\\n\",N2)\n",
    "print(\"N3\\n\",N3)"
   ]
  },
  {
   "cell_type": "markdown",
   "id": "82cc643a",
   "metadata": {},
   "source": [
    "## MaxAbsScaler COLUMNS"
   ]
  },
  {
   "cell_type": "code",
   "execution_count": 31,
   "id": "6446eef6",
   "metadata": {
    "collapsed": true
   },
   "outputs": [
    {
     "name": "stdout",
     "output_type": "stream",
     "text": [
      "transformer : \n",
      " [[ 0.2  1.   1. ]\n",
      " [ 0.4  0.   0. ]\n",
      " [ 1.   0.1 -0.5]]\n"
     ]
    }
   ],
   "source": [
    "## similar of normalizer(max) but in column\n",
    "from sklearn.preprocessing import MaxAbsScaler\n",
    "X = [[ 1., 10., 2.],\n",
    "     [ 2., 0., 0.],\n",
    "     [ 5., 1., -1.]]\n",
    "transformer = MaxAbsScaler().fit_transform(X)\n",
    "print(\"transformer : \\n\",transformer)"
   ]
  },
  {
   "cell_type": "markdown",
   "id": "02ca2220",
   "metadata": {},
   "source": [
    "## FunctionTransformer"
   ]
  },
  {
   "cell_type": "code",
   "execution_count": 42,
   "id": "3958dc79",
   "metadata": {
    "collapsed": true
   },
   "outputs": [
    {
     "name": "stdout",
     "output_type": "stream",
     "text": [
      "out\n",
      " [[0.004 0.001 0.002 0.002]\n",
      " [0.001 0.003 0.009 0.003]\n",
      " [0.005 0.007 0.005 0.001]]\n"
     ]
    }
   ],
   "source": [
    "import numpy as np\n",
    "from sklearn.preprocessing import FunctionTransformer\n",
    "\n",
    "X = [[4, 1, 2, 2], [1, 3, 9, 3], [5, 7, 5, 1]]\n",
    "\n",
    "def function1(z):\n",
    "    return np.divide(z,1000)\n",
    "\n",
    "FT = FunctionTransformer(func = function1)\n",
    "\n",
    "print(\"out\\n\",FT.fit_transform(X))"
   ]
  },
  {
   "cell_type": "markdown",
   "id": "89f3f3e0",
   "metadata": {},
   "source": [
    "## Binarizer"
   ]
  },
  {
   "cell_type": "code",
   "execution_count": 50,
   "id": "248771df",
   "metadata": {},
   "outputs": [
    {
     "name": "stdout",
     "output_type": "stream",
     "text": [
      "transformer : \n",
      " [[1. 0. 0.]\n",
      " [1. 0. 0.]\n",
      " [0. 1. 0.]]\n"
     ]
    }
   ],
   "source": [
    "#بيحول القيم كلها ال اقل من الرقم ال انت مديه له لصفر والاكبر منه لواحد \n",
    "from sklearn.preprocessing import Binarizer\n",
    "X = [[ 1., -1., -2.],\n",
    "      [ 2., 0., -1.], \n",
    "      [ 0., 1., -1.]]\n",
    "\n",
    "transformer = Binarizer(threshold=0.5 ) \n",
    "transformer1 = transformer.fit_transform(X)\n",
    "print(\"transformer : \\n\",transformer1)"
   ]
  },
  {
   "cell_type": "markdown",
   "id": "6c36617d",
   "metadata": {},
   "source": [
    "## PolynomialFeatures"
   ]
  },
  {
   "cell_type": "code",
   "execution_count": 62,
   "id": "0e8b0846",
   "metadata": {
    "collapsed": true
   },
   "outputs": [
    {
     "name": "stdout",
     "output_type": "stream",
     "text": [
      "Original \n",
      " [[0 1]\n",
      " [2 3]\n",
      " [4 5]]\n",
      "\n",
      "interaction_only=False\n",
      " [[ 1.  0.  1.  0.  0.  1.]\n",
      " [ 1.  2.  3.  4.  6.  9.]\n",
      " [ 1.  4.  5. 16. 20. 25.]]\n",
      "\n",
      "interaction_only=True\n",
      " [[ 1.  0.  1.  0.]\n",
      " [ 1.  2.  3.  6.]\n",
      " [ 1.  4.  5. 20.]]\n"
     ]
    }
   ],
   "source": [
    "import numpy as np\n",
    "from sklearn.preprocessing import PolynomialFeatures\n",
    "X = np.arange(6).reshape(3, 2)\n",
    "print(\"Original \\n\",X)\n",
    "poly = PolynomialFeatures(degree=2 , include_bias = True)\n",
    "\n",
    "print(\"\\ninteraction_only=False\\n\",poly.fit_transform(X))\n",
    "\n",
    "\n",
    "poly = PolynomialFeatures(interaction_only=True)#here only add columns bais and first*second\n",
    "\n",
    "print(\"\\ninteraction_only=True\\n\",poly.fit_transform(X))"
   ]
  }
 ],
 "metadata": {
  "kernelspec": {
   "display_name": "Python 3 (ipykernel)",
   "language": "python",
   "name": "python3"
  },
  "language_info": {
   "codemirror_mode": {
    "name": "ipython",
    "version": 3
   },
   "file_extension": ".py",
   "mimetype": "text/x-python",
   "name": "python",
   "nbconvert_exporter": "python",
   "pygments_lexer": "ipython3",
   "version": "3.10.8"
  }
 },
 "nbformat": 4,
 "nbformat_minor": 5
}
