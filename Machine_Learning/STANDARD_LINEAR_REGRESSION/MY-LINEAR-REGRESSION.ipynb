{
 "cells": [
  {
   "cell_type": "code",
   "execution_count": 1,
   "id": "76f782a9",
   "metadata": {
    "id": "76f782a9"
   },
   "outputs": [],
   "source": [
    "#### IMPORTING LIBRARIES ####\n",
    "import numpy as np\n",
    "import pandas as pd\n",
    "import matplotlib.pyplot as plt\n",
    "from sklearn.model_selection import train_test_split\n",
    "from sklearn.linear_model import LinearRegression"
   ]
  },
  {
   "cell_type": "code",
   "execution_count": 2,
   "id": "8705342e",
   "metadata": {
    "id": "8705342e"
   },
   "outputs": [
    {
     "ename": "FileNotFoundError",
     "evalue": "[Errno 2] No such file or directory: 'C:\\\\Users\\\\MoHaMeD\\\\Desktop\\\\diabetes.csv'",
     "output_type": "error",
     "traceback": [
      "\u001b[1;31m---------------------------------------------------------------------------\u001b[0m",
      "\u001b[1;31mFileNotFoundError\u001b[0m                         Traceback (most recent call last)",
      "Cell \u001b[1;32mIn [2], line 3\u001b[0m\n\u001b[0;32m      1\u001b[0m \u001b[38;5;66;03m#### READ & IDENTIFY DATA ####\u001b[39;00m\n\u001b[0;32m      2\u001b[0m path \u001b[38;5;241m=\u001b[39m \u001b[38;5;124mr\u001b[39m\u001b[38;5;124m\"\u001b[39m\u001b[38;5;124mC:\u001b[39m\u001b[38;5;124m\\\u001b[39m\u001b[38;5;124mUsers\u001b[39m\u001b[38;5;124m\\\u001b[39m\u001b[38;5;124mMoHaMeD\u001b[39m\u001b[38;5;124m\\\u001b[39m\u001b[38;5;124mDesktop\u001b[39m\u001b[38;5;124m\\\u001b[39m\u001b[38;5;124mdiabetes.csv\u001b[39m\u001b[38;5;124m\"\u001b[39m\n\u001b[1;32m----> 3\u001b[0m data \u001b[38;5;241m=\u001b[39m pd\u001b[38;5;241m.\u001b[39mread_csv(path)\n\u001b[0;32m      4\u001b[0m X\u001b[38;5;241m=\u001b[39mdata\u001b[38;5;241m.\u001b[39miloc[:,:\u001b[38;5;241m-\u001b[39m\u001b[38;5;241m1\u001b[39m]  \u001b[38;5;66;03m# X is the input\u001b[39;00m\n\u001b[0;32m      5\u001b[0m y\u001b[38;5;241m=\u001b[39mdata\u001b[38;5;241m.\u001b[39miloc[:,\u001b[38;5;241m-\u001b[39m\u001b[38;5;241m1\u001b[39m]\n",
      "File \u001b[1;32mC:\\python\\python310\\lib\\site-packages\\pandas\\util\\_decorators.py:211\u001b[0m, in \u001b[0;36mdeprecate_kwarg.<locals>._deprecate_kwarg.<locals>.wrapper\u001b[1;34m(*args, **kwargs)\u001b[0m\n\u001b[0;32m    209\u001b[0m     \u001b[38;5;28;01melse\u001b[39;00m:\n\u001b[0;32m    210\u001b[0m         kwargs[new_arg_name] \u001b[38;5;241m=\u001b[39m new_arg_value\n\u001b[1;32m--> 211\u001b[0m \u001b[38;5;28;01mreturn\u001b[39;00m func(\u001b[38;5;241m*\u001b[39margs, \u001b[38;5;241m*\u001b[39m\u001b[38;5;241m*\u001b[39mkwargs)\n",
      "File \u001b[1;32mC:\\python\\python310\\lib\\site-packages\\pandas\\util\\_decorators.py:331\u001b[0m, in \u001b[0;36mdeprecate_nonkeyword_arguments.<locals>.decorate.<locals>.wrapper\u001b[1;34m(*args, **kwargs)\u001b[0m\n\u001b[0;32m    325\u001b[0m \u001b[38;5;28;01mif\u001b[39;00m \u001b[38;5;28mlen\u001b[39m(args) \u001b[38;5;241m>\u001b[39m num_allow_args:\n\u001b[0;32m    326\u001b[0m     warnings\u001b[38;5;241m.\u001b[39mwarn(\n\u001b[0;32m    327\u001b[0m         msg\u001b[38;5;241m.\u001b[39mformat(arguments\u001b[38;5;241m=\u001b[39m_format_argument_list(allow_args)),\n\u001b[0;32m    328\u001b[0m         \u001b[38;5;167;01mFutureWarning\u001b[39;00m,\n\u001b[0;32m    329\u001b[0m         stacklevel\u001b[38;5;241m=\u001b[39mfind_stack_level(),\n\u001b[0;32m    330\u001b[0m     )\n\u001b[1;32m--> 331\u001b[0m \u001b[38;5;28;01mreturn\u001b[39;00m func(\u001b[38;5;241m*\u001b[39margs, \u001b[38;5;241m*\u001b[39m\u001b[38;5;241m*\u001b[39mkwargs)\n",
      "File \u001b[1;32mC:\\python\\python310\\lib\\site-packages\\pandas\\io\\parsers\\readers.py:950\u001b[0m, in \u001b[0;36mread_csv\u001b[1;34m(filepath_or_buffer, sep, delimiter, header, names, index_col, usecols, squeeze, prefix, mangle_dupe_cols, dtype, engine, converters, true_values, false_values, skipinitialspace, skiprows, skipfooter, nrows, na_values, keep_default_na, na_filter, verbose, skip_blank_lines, parse_dates, infer_datetime_format, keep_date_col, date_parser, dayfirst, cache_dates, iterator, chunksize, compression, thousands, decimal, lineterminator, quotechar, quoting, doublequote, escapechar, comment, encoding, encoding_errors, dialect, error_bad_lines, warn_bad_lines, on_bad_lines, delim_whitespace, low_memory, memory_map, float_precision, storage_options)\u001b[0m\n\u001b[0;32m    935\u001b[0m kwds_defaults \u001b[38;5;241m=\u001b[39m _refine_defaults_read(\n\u001b[0;32m    936\u001b[0m     dialect,\n\u001b[0;32m    937\u001b[0m     delimiter,\n\u001b[1;32m   (...)\u001b[0m\n\u001b[0;32m    946\u001b[0m     defaults\u001b[38;5;241m=\u001b[39m{\u001b[38;5;124m\"\u001b[39m\u001b[38;5;124mdelimiter\u001b[39m\u001b[38;5;124m\"\u001b[39m: \u001b[38;5;124m\"\u001b[39m\u001b[38;5;124m,\u001b[39m\u001b[38;5;124m\"\u001b[39m},\n\u001b[0;32m    947\u001b[0m )\n\u001b[0;32m    948\u001b[0m kwds\u001b[38;5;241m.\u001b[39mupdate(kwds_defaults)\n\u001b[1;32m--> 950\u001b[0m \u001b[38;5;28;01mreturn\u001b[39;00m \u001b[43m_read\u001b[49m\u001b[43m(\u001b[49m\u001b[43mfilepath_or_buffer\u001b[49m\u001b[43m,\u001b[49m\u001b[43m \u001b[49m\u001b[43mkwds\u001b[49m\u001b[43m)\u001b[49m\n",
      "File \u001b[1;32mC:\\python\\python310\\lib\\site-packages\\pandas\\io\\parsers\\readers.py:605\u001b[0m, in \u001b[0;36m_read\u001b[1;34m(filepath_or_buffer, kwds)\u001b[0m\n\u001b[0;32m    602\u001b[0m _validate_names(kwds\u001b[38;5;241m.\u001b[39mget(\u001b[38;5;124m\"\u001b[39m\u001b[38;5;124mnames\u001b[39m\u001b[38;5;124m\"\u001b[39m, \u001b[38;5;28;01mNone\u001b[39;00m))\n\u001b[0;32m    604\u001b[0m \u001b[38;5;66;03m# Create the parser.\u001b[39;00m\n\u001b[1;32m--> 605\u001b[0m parser \u001b[38;5;241m=\u001b[39m TextFileReader(filepath_or_buffer, \u001b[38;5;241m*\u001b[39m\u001b[38;5;241m*\u001b[39mkwds)\n\u001b[0;32m    607\u001b[0m \u001b[38;5;28;01mif\u001b[39;00m chunksize \u001b[38;5;129;01mor\u001b[39;00m iterator:\n\u001b[0;32m    608\u001b[0m     \u001b[38;5;28;01mreturn\u001b[39;00m parser\n",
      "File \u001b[1;32mC:\\python\\python310\\lib\\site-packages\\pandas\\io\\parsers\\readers.py:1442\u001b[0m, in \u001b[0;36mTextFileReader.__init__\u001b[1;34m(self, f, engine, **kwds)\u001b[0m\n\u001b[0;32m   1439\u001b[0m     \u001b[38;5;28mself\u001b[39m\u001b[38;5;241m.\u001b[39moptions[\u001b[38;5;124m\"\u001b[39m\u001b[38;5;124mhas_index_names\u001b[39m\u001b[38;5;124m\"\u001b[39m] \u001b[38;5;241m=\u001b[39m kwds[\u001b[38;5;124m\"\u001b[39m\u001b[38;5;124mhas_index_names\u001b[39m\u001b[38;5;124m\"\u001b[39m]\n\u001b[0;32m   1441\u001b[0m \u001b[38;5;28mself\u001b[39m\u001b[38;5;241m.\u001b[39mhandles: IOHandles \u001b[38;5;241m|\u001b[39m \u001b[38;5;28;01mNone\u001b[39;00m \u001b[38;5;241m=\u001b[39m \u001b[38;5;28;01mNone\u001b[39;00m\n\u001b[1;32m-> 1442\u001b[0m \u001b[38;5;28mself\u001b[39m\u001b[38;5;241m.\u001b[39m_engine \u001b[38;5;241m=\u001b[39m \u001b[38;5;28;43mself\u001b[39;49m\u001b[38;5;241;43m.\u001b[39;49m\u001b[43m_make_engine\u001b[49m\u001b[43m(\u001b[49m\u001b[43mf\u001b[49m\u001b[43m,\u001b[49m\u001b[43m \u001b[49m\u001b[38;5;28;43mself\u001b[39;49m\u001b[38;5;241;43m.\u001b[39;49m\u001b[43mengine\u001b[49m\u001b[43m)\u001b[49m\n",
      "File \u001b[1;32mC:\\python\\python310\\lib\\site-packages\\pandas\\io\\parsers\\readers.py:1735\u001b[0m, in \u001b[0;36mTextFileReader._make_engine\u001b[1;34m(self, f, engine)\u001b[0m\n\u001b[0;32m   1733\u001b[0m     \u001b[38;5;28;01mif\u001b[39;00m \u001b[38;5;124m\"\u001b[39m\u001b[38;5;124mb\u001b[39m\u001b[38;5;124m\"\u001b[39m \u001b[38;5;129;01mnot\u001b[39;00m \u001b[38;5;129;01min\u001b[39;00m mode:\n\u001b[0;32m   1734\u001b[0m         mode \u001b[38;5;241m+\u001b[39m\u001b[38;5;241m=\u001b[39m \u001b[38;5;124m\"\u001b[39m\u001b[38;5;124mb\u001b[39m\u001b[38;5;124m\"\u001b[39m\n\u001b[1;32m-> 1735\u001b[0m \u001b[38;5;28mself\u001b[39m\u001b[38;5;241m.\u001b[39mhandles \u001b[38;5;241m=\u001b[39m \u001b[43mget_handle\u001b[49m\u001b[43m(\u001b[49m\n\u001b[0;32m   1736\u001b[0m \u001b[43m    \u001b[49m\u001b[43mf\u001b[49m\u001b[43m,\u001b[49m\n\u001b[0;32m   1737\u001b[0m \u001b[43m    \u001b[49m\u001b[43mmode\u001b[49m\u001b[43m,\u001b[49m\n\u001b[0;32m   1738\u001b[0m \u001b[43m    \u001b[49m\u001b[43mencoding\u001b[49m\u001b[38;5;241;43m=\u001b[39;49m\u001b[38;5;28;43mself\u001b[39;49m\u001b[38;5;241;43m.\u001b[39;49m\u001b[43moptions\u001b[49m\u001b[38;5;241;43m.\u001b[39;49m\u001b[43mget\u001b[49m\u001b[43m(\u001b[49m\u001b[38;5;124;43m\"\u001b[39;49m\u001b[38;5;124;43mencoding\u001b[39;49m\u001b[38;5;124;43m\"\u001b[39;49m\u001b[43m,\u001b[49m\u001b[43m \u001b[49m\u001b[38;5;28;43;01mNone\u001b[39;49;00m\u001b[43m)\u001b[49m\u001b[43m,\u001b[49m\n\u001b[0;32m   1739\u001b[0m \u001b[43m    \u001b[49m\u001b[43mcompression\u001b[49m\u001b[38;5;241;43m=\u001b[39;49m\u001b[38;5;28;43mself\u001b[39;49m\u001b[38;5;241;43m.\u001b[39;49m\u001b[43moptions\u001b[49m\u001b[38;5;241;43m.\u001b[39;49m\u001b[43mget\u001b[49m\u001b[43m(\u001b[49m\u001b[38;5;124;43m\"\u001b[39;49m\u001b[38;5;124;43mcompression\u001b[39;49m\u001b[38;5;124;43m\"\u001b[39;49m\u001b[43m,\u001b[49m\u001b[43m \u001b[49m\u001b[38;5;28;43;01mNone\u001b[39;49;00m\u001b[43m)\u001b[49m\u001b[43m,\u001b[49m\n\u001b[0;32m   1740\u001b[0m \u001b[43m    \u001b[49m\u001b[43mmemory_map\u001b[49m\u001b[38;5;241;43m=\u001b[39;49m\u001b[38;5;28;43mself\u001b[39;49m\u001b[38;5;241;43m.\u001b[39;49m\u001b[43moptions\u001b[49m\u001b[38;5;241;43m.\u001b[39;49m\u001b[43mget\u001b[49m\u001b[43m(\u001b[49m\u001b[38;5;124;43m\"\u001b[39;49m\u001b[38;5;124;43mmemory_map\u001b[39;49m\u001b[38;5;124;43m\"\u001b[39;49m\u001b[43m,\u001b[49m\u001b[43m \u001b[49m\u001b[38;5;28;43;01mFalse\u001b[39;49;00m\u001b[43m)\u001b[49m\u001b[43m,\u001b[49m\n\u001b[0;32m   1741\u001b[0m \u001b[43m    \u001b[49m\u001b[43mis_text\u001b[49m\u001b[38;5;241;43m=\u001b[39;49m\u001b[43mis_text\u001b[49m\u001b[43m,\u001b[49m\n\u001b[0;32m   1742\u001b[0m \u001b[43m    \u001b[49m\u001b[43merrors\u001b[49m\u001b[38;5;241;43m=\u001b[39;49m\u001b[38;5;28;43mself\u001b[39;49m\u001b[38;5;241;43m.\u001b[39;49m\u001b[43moptions\u001b[49m\u001b[38;5;241;43m.\u001b[39;49m\u001b[43mget\u001b[49m\u001b[43m(\u001b[49m\u001b[38;5;124;43m\"\u001b[39;49m\u001b[38;5;124;43mencoding_errors\u001b[39;49m\u001b[38;5;124;43m\"\u001b[39;49m\u001b[43m,\u001b[49m\u001b[43m \u001b[49m\u001b[38;5;124;43m\"\u001b[39;49m\u001b[38;5;124;43mstrict\u001b[39;49m\u001b[38;5;124;43m\"\u001b[39;49m\u001b[43m)\u001b[49m\u001b[43m,\u001b[49m\n\u001b[0;32m   1743\u001b[0m \u001b[43m    \u001b[49m\u001b[43mstorage_options\u001b[49m\u001b[38;5;241;43m=\u001b[39;49m\u001b[38;5;28;43mself\u001b[39;49m\u001b[38;5;241;43m.\u001b[39;49m\u001b[43moptions\u001b[49m\u001b[38;5;241;43m.\u001b[39;49m\u001b[43mget\u001b[49m\u001b[43m(\u001b[49m\u001b[38;5;124;43m\"\u001b[39;49m\u001b[38;5;124;43mstorage_options\u001b[39;49m\u001b[38;5;124;43m\"\u001b[39;49m\u001b[43m,\u001b[49m\u001b[43m \u001b[49m\u001b[38;5;28;43;01mNone\u001b[39;49;00m\u001b[43m)\u001b[49m\u001b[43m,\u001b[49m\n\u001b[0;32m   1744\u001b[0m \u001b[43m\u001b[49m\u001b[43m)\u001b[49m\n\u001b[0;32m   1745\u001b[0m \u001b[38;5;28;01massert\u001b[39;00m \u001b[38;5;28mself\u001b[39m\u001b[38;5;241m.\u001b[39mhandles \u001b[38;5;129;01mis\u001b[39;00m \u001b[38;5;129;01mnot\u001b[39;00m \u001b[38;5;28;01mNone\u001b[39;00m\n\u001b[0;32m   1746\u001b[0m f \u001b[38;5;241m=\u001b[39m \u001b[38;5;28mself\u001b[39m\u001b[38;5;241m.\u001b[39mhandles\u001b[38;5;241m.\u001b[39mhandle\n",
      "File \u001b[1;32mC:\\python\\python310\\lib\\site-packages\\pandas\\io\\common.py:856\u001b[0m, in \u001b[0;36mget_handle\u001b[1;34m(path_or_buf, mode, encoding, compression, memory_map, is_text, errors, storage_options)\u001b[0m\n\u001b[0;32m    851\u001b[0m \u001b[38;5;28;01melif\u001b[39;00m \u001b[38;5;28misinstance\u001b[39m(handle, \u001b[38;5;28mstr\u001b[39m):\n\u001b[0;32m    852\u001b[0m     \u001b[38;5;66;03m# Check whether the filename is to be opened in binary mode.\u001b[39;00m\n\u001b[0;32m    853\u001b[0m     \u001b[38;5;66;03m# Binary mode does not support 'encoding' and 'newline'.\u001b[39;00m\n\u001b[0;32m    854\u001b[0m     \u001b[38;5;28;01mif\u001b[39;00m ioargs\u001b[38;5;241m.\u001b[39mencoding \u001b[38;5;129;01mand\u001b[39;00m \u001b[38;5;124m\"\u001b[39m\u001b[38;5;124mb\u001b[39m\u001b[38;5;124m\"\u001b[39m \u001b[38;5;129;01mnot\u001b[39;00m \u001b[38;5;129;01min\u001b[39;00m ioargs\u001b[38;5;241m.\u001b[39mmode:\n\u001b[0;32m    855\u001b[0m         \u001b[38;5;66;03m# Encoding\u001b[39;00m\n\u001b[1;32m--> 856\u001b[0m         handle \u001b[38;5;241m=\u001b[39m \u001b[38;5;28;43mopen\u001b[39;49m\u001b[43m(\u001b[49m\n\u001b[0;32m    857\u001b[0m \u001b[43m            \u001b[49m\u001b[43mhandle\u001b[49m\u001b[43m,\u001b[49m\n\u001b[0;32m    858\u001b[0m \u001b[43m            \u001b[49m\u001b[43mioargs\u001b[49m\u001b[38;5;241;43m.\u001b[39;49m\u001b[43mmode\u001b[49m\u001b[43m,\u001b[49m\n\u001b[0;32m    859\u001b[0m \u001b[43m            \u001b[49m\u001b[43mencoding\u001b[49m\u001b[38;5;241;43m=\u001b[39;49m\u001b[43mioargs\u001b[49m\u001b[38;5;241;43m.\u001b[39;49m\u001b[43mencoding\u001b[49m\u001b[43m,\u001b[49m\n\u001b[0;32m    860\u001b[0m \u001b[43m            \u001b[49m\u001b[43merrors\u001b[49m\u001b[38;5;241;43m=\u001b[39;49m\u001b[43merrors\u001b[49m\u001b[43m,\u001b[49m\n\u001b[0;32m    861\u001b[0m \u001b[43m            \u001b[49m\u001b[43mnewline\u001b[49m\u001b[38;5;241;43m=\u001b[39;49m\u001b[38;5;124;43m\"\u001b[39;49m\u001b[38;5;124;43m\"\u001b[39;49m\u001b[43m,\u001b[49m\n\u001b[0;32m    862\u001b[0m \u001b[43m        \u001b[49m\u001b[43m)\u001b[49m\n\u001b[0;32m    863\u001b[0m     \u001b[38;5;28;01melse\u001b[39;00m:\n\u001b[0;32m    864\u001b[0m         \u001b[38;5;66;03m# Binary mode\u001b[39;00m\n\u001b[0;32m    865\u001b[0m         handle \u001b[38;5;241m=\u001b[39m \u001b[38;5;28mopen\u001b[39m(handle, ioargs\u001b[38;5;241m.\u001b[39mmode)\n",
      "\u001b[1;31mFileNotFoundError\u001b[0m: [Errno 2] No such file or directory: 'C:\\\\Users\\\\MoHaMeD\\\\Desktop\\\\diabetes.csv'"
     ]
    }
   ],
   "source": [
    "#### READ & IDENTIFY DATA ####\n",
    "path = r\"C:\\Users\\MoHaMeD\\Desktop\\diabetes.csv\"\n",
    "data = pd.read_csv(path)\n",
    "X=data.iloc[:,:-1]  # X is the input\n",
    "y=data.iloc[:,-1]  # y is the output\n"
   ]
  },
  {
   "cell_type": "code",
   "execution_count": 51,
   "id": "889bcfc2",
   "metadata": {
    "collapsed": true,
    "id": "889bcfc2"
   },
   "outputs": [
    {
     "name": "stdout",
     "output_type": "stream",
     "text": [
      "<class 'pandas.core.frame.DataFrame'>\n",
      "RangeIndex: 768 entries, 0 to 767\n",
      "Data columns (total 9 columns):\n",
      " #   Column                    Non-Null Count  Dtype  \n",
      "---  ------                    --------------  -----  \n",
      " 0   Pregnancies               768 non-null    int64  \n",
      " 1   Glucose                   768 non-null    int64  \n",
      " 2   BloodPressure             768 non-null    int64  \n",
      " 3   SkinThickness             768 non-null    int64  \n",
      " 4   Insulin                   768 non-null    int64  \n",
      " 5   BMI                       768 non-null    float64\n",
      " 6   DiabetesPedigreeFunction  768 non-null    float64\n",
      " 7   Age                       768 non-null    int64  \n",
      " 8   Outcome                   768 non-null    int64  \n",
      "dtypes: float64(2), int64(7)\n",
      "memory usage: 54.1 KB\n"
     ]
    }
   ],
   "source": [
    "#### DATA SHOW ####\n",
    "# data.head()\n",
    "# data.describe()\n",
    "data.info()\n",
    "# data.plot(kind='scatter', x='comp_GPA', y='univ_GPA', figsize=(5,5)) #first method\n",
    "# plt.scatter(data['high_GPA'],data['univ_GPA'],c='r') #second method"
   ]
  },
  {
   "cell_type": "code",
   "execution_count": null,
   "id": "e836c091",
   "metadata": {},
   "outputs": [],
   "source": [
    "import numpy as np\n",
    "from sklearn.preprocessing import FunctionTransformer\n",
    "\n",
    "def function1(z):\n",
    "    return np.divide(z,1000)\n",
    "\n",
    "FT = FunctionTransformer(func = function1)\n",
    "X=FT.fit_transform(X)\n",
    "y=FT.fit_transform(y)"
   ]
  },
  {
   "cell_type": "code",
   "execution_count": 56,
   "id": "893ca3d2",
   "metadata": {
    "colab": {
     "base_uri": "https://localhost:8080/",
     "height": 385
    },
    "id": "893ca3d2",
    "outputId": "edb6a412-b9ca-4d6b-8ede-bc096eeecffe"
   },
   "outputs": [
    {
     "name": "stdout",
     "output_type": "stream",
     "text": [
      "computeCost(X, y, theta) =  134.0\n"
     ]
    }
   ],
   "source": [
    "#### COST FUNCTION ####\n",
    "\n",
    "# ###adding a new column called ones before the data\n",
    "# data.insert(0, 'Ones', 1)\n",
    "\n",
    "# separate X (training data) from y (target variable)\n",
    "X = data.iloc[:,0:-1]\n",
    "y = data.iloc[:,-1]\n",
    "\n",
    "##convert from data frames to numpy matrices\n",
    "X = np.matrix(X.values)\n",
    "y = np.matrix(y.values)\n",
    "shape = (len(data.axes[1]))  -1\n",
    "theta = np.matrix(np.zeros(shape))\n",
    "##convert item data type from string to float\n",
    "# X = X.astype(float)\n",
    "# y = y.astype(float)\n",
    "\n",
    "def computeCost(X, y, theta):\n",
    "    z = np.power(((X * theta.T) - y), 2)\n",
    "    summation=np.sum( np.power( ( (X * theta.T) - y ), 2 ) )\n",
    "    m=len(X)\n",
    "    return summation / (2 * m)\n",
    "\n",
    "print('computeCost(X, y, theta) = ' , computeCost(X, y, theta))\n"
   ]
  },
  {
   "cell_type": "code",
   "execution_count": 58,
   "id": "886201f9",
   "metadata": {
    "collapsed": true
   },
   "outputs": [
    {
     "data": {
      "text/plain": [
       "matrix([[0.001, 0.   , 0.001, 0.   , 0.001, 0.   , 0.001, 0.   , 0.001,\n",
       "         0.001, 0.   , 0.001, 0.   , 0.001, 0.001, 0.001, 0.001, 0.001,\n",
       "         0.   , 0.001, 0.   , 0.   , 0.001, 0.001, 0.001, 0.001, 0.001,\n",
       "         0.   , 0.   , 0.   , 0.   , 0.001, 0.   , 0.   , 0.   , 0.   ,\n",
       "         0.   , 0.001, 0.001, 0.001, 0.   , 0.   , 0.   , 0.001, 0.   ,\n",
       "         0.001, 0.   , 0.   , 0.001, 0.   , 0.   , 0.   , 0.   , 0.001,\n",
       "         0.   , 0.   , 0.001, 0.   , 0.   , 0.   , 0.   , 0.001, 0.   ,\n",
       "         0.   , 0.001, 0.   , 0.001, 0.   , 0.   , 0.   , 0.001, 0.   ,\n",
       "         0.001, 0.   , 0.   , 0.   , 0.   , 0.   , 0.001, 0.   , 0.   ,\n",
       "         0.   , 0.   , 0.   , 0.001, 0.   , 0.   , 0.   , 0.001, 0.   ,\n",
       "         0.   , 0.   , 0.   , 0.001, 0.   , 0.   , 0.   , 0.   , 0.   ,\n",
       "         0.001, 0.001, 0.   , 0.   , 0.   , 0.   , 0.   , 0.   , 0.   ,\n",
       "         0.   , 0.001, 0.001, 0.001, 0.   , 0.   , 0.001, 0.001, 0.001,\n",
       "         0.   , 0.   , 0.   , 0.001, 0.   , 0.   , 0.   , 0.001, 0.001,\n",
       "         0.   , 0.   , 0.001, 0.001, 0.001, 0.001, 0.001, 0.   , 0.   ,\n",
       "         0.   , 0.   , 0.   , 0.   , 0.   , 0.   , 0.   , 0.   , 0.001,\n",
       "         0.   , 0.   , 0.   , 0.   , 0.   , 0.   , 0.   , 0.   , 0.001,\n",
       "         0.   , 0.001, 0.001, 0.   , 0.   , 0.   , 0.001, 0.   , 0.   ,\n",
       "         0.   , 0.   , 0.001, 0.001, 0.   , 0.   , 0.   , 0.   , 0.001,\n",
       "         0.001, 0.   , 0.   , 0.   , 0.001, 0.   , 0.001, 0.   , 0.001,\n",
       "         0.   , 0.   , 0.   , 0.   , 0.   , 0.001, 0.001, 0.001, 0.001,\n",
       "         0.001, 0.   , 0.   , 0.001, 0.001, 0.   , 0.001, 0.   , 0.001,\n",
       "         0.001, 0.001, 0.   , 0.   , 0.   , 0.   , 0.   , 0.   , 0.001,\n",
       "         0.001, 0.   , 0.001, 0.   , 0.   , 0.   , 0.001, 0.001, 0.001,\n",
       "         0.001, 0.   , 0.001, 0.001, 0.001, 0.001, 0.   , 0.   , 0.   ,\n",
       "         0.   , 0.   , 0.001, 0.   , 0.   , 0.001, 0.001, 0.   , 0.   ,\n",
       "         0.   , 0.001, 0.001, 0.001, 0.001, 0.   , 0.   , 0.   , 0.001,\n",
       "         0.001, 0.   , 0.001, 0.   , 0.   , 0.   , 0.   , 0.   , 0.   ,\n",
       "         0.   , 0.   , 0.001, 0.001, 0.   , 0.   , 0.   , 0.001, 0.   ,\n",
       "         0.001, 0.   , 0.   , 0.001, 0.   , 0.001, 0.   , 0.   , 0.001,\n",
       "         0.001, 0.   , 0.   , 0.   , 0.   , 0.   , 0.001, 0.   , 0.   ,\n",
       "         0.   , 0.001, 0.   , 0.   , 0.001, 0.001, 0.   , 0.   , 0.001,\n",
       "         0.   , 0.   , 0.   , 0.001, 0.001, 0.001, 0.   , 0.   , 0.001,\n",
       "         0.   , 0.001, 0.   , 0.001, 0.001, 0.   , 0.001, 0.   , 0.   ,\n",
       "         0.001, 0.   , 0.001, 0.001, 0.   , 0.   , 0.001, 0.   , 0.001,\n",
       "         0.   , 0.   , 0.001, 0.   , 0.001, 0.   , 0.001, 0.001, 0.001,\n",
       "         0.   , 0.   , 0.001, 0.   , 0.001, 0.   , 0.   , 0.   , 0.001,\n",
       "         0.   , 0.   , 0.   , 0.   , 0.001, 0.001, 0.001, 0.   , 0.   ,\n",
       "         0.   , 0.   , 0.   , 0.   , 0.   , 0.   , 0.   , 0.001, 0.   ,\n",
       "         0.   , 0.   , 0.   , 0.   , 0.001, 0.001, 0.001, 0.   , 0.001,\n",
       "         0.001, 0.   , 0.   , 0.001, 0.   , 0.   , 0.001, 0.   , 0.   ,\n",
       "         0.001, 0.001, 0.   , 0.   , 0.   , 0.   , 0.001, 0.   , 0.   ,\n",
       "         0.001, 0.   , 0.   , 0.   , 0.   , 0.   , 0.   , 0.   , 0.001,\n",
       "         0.001, 0.001, 0.   , 0.   , 0.001, 0.   , 0.   , 0.001, 0.   ,\n",
       "         0.   , 0.001, 0.   , 0.001, 0.001, 0.   , 0.001, 0.   , 0.001,\n",
       "         0.   , 0.001, 0.   , 0.001, 0.001, 0.   , 0.   , 0.   , 0.   ,\n",
       "         0.001, 0.001, 0.   , 0.001, 0.   , 0.001, 0.   , 0.   , 0.   ,\n",
       "         0.   , 0.001, 0.001, 0.   , 0.001, 0.   , 0.001, 0.   , 0.   ,\n",
       "         0.   , 0.   , 0.   , 0.001, 0.   , 0.   , 0.   , 0.   , 0.001,\n",
       "         0.   , 0.   , 0.001, 0.001, 0.001, 0.   , 0.   , 0.001, 0.   ,\n",
       "         0.   , 0.001, 0.   , 0.   , 0.   , 0.001, 0.   , 0.   , 0.001,\n",
       "         0.   , 0.   , 0.   , 0.   , 0.   , 0.   , 0.   , 0.   , 0.   ,\n",
       "         0.001, 0.   , 0.   , 0.   , 0.   , 0.   , 0.   , 0.   , 0.001,\n",
       "         0.   , 0.   , 0.   , 0.001, 0.   , 0.   , 0.   , 0.001, 0.001,\n",
       "         0.   , 0.   , 0.   , 0.   , 0.   , 0.   , 0.   , 0.001, 0.   ,\n",
       "         0.   , 0.   , 0.   , 0.001, 0.   , 0.   , 0.   , 0.001, 0.   ,\n",
       "         0.   , 0.   , 0.001, 0.   , 0.   , 0.   , 0.001, 0.   , 0.   ,\n",
       "         0.   , 0.   , 0.001, 0.001, 0.   , 0.   , 0.   , 0.   , 0.   ,\n",
       "         0.   , 0.001, 0.   , 0.   , 0.   , 0.   , 0.   , 0.   , 0.   ,\n",
       "         0.   , 0.   , 0.   , 0.   , 0.001, 0.   , 0.   , 0.   , 0.001,\n",
       "         0.001, 0.001, 0.001, 0.   , 0.   , 0.001, 0.001, 0.   , 0.   ,\n",
       "         0.   , 0.   , 0.   , 0.   , 0.   , 0.   , 0.   , 0.   , 0.   ,\n",
       "         0.   , 0.   , 0.001, 0.001, 0.   , 0.   , 0.   , 0.   , 0.   ,\n",
       "         0.   , 0.   , 0.001, 0.   , 0.   , 0.   , 0.   , 0.   , 0.   ,\n",
       "         0.   , 0.001, 0.   , 0.001, 0.001, 0.   , 0.   , 0.   , 0.001,\n",
       "         0.   , 0.001, 0.   , 0.001, 0.   , 0.001, 0.   , 0.001, 0.   ,\n",
       "         0.   , 0.001, 0.   , 0.   , 0.001, 0.   , 0.   , 0.   , 0.   ,\n",
       "         0.001, 0.001, 0.   , 0.001, 0.   , 0.   , 0.   , 0.   , 0.001,\n",
       "         0.001, 0.   , 0.001, 0.   , 0.   , 0.   , 0.001, 0.001, 0.   ,\n",
       "         0.   , 0.   , 0.   , 0.   , 0.   , 0.   , 0.   , 0.   , 0.   ,\n",
       "         0.001, 0.   , 0.   , 0.   , 0.   , 0.001, 0.   , 0.   , 0.001,\n",
       "         0.   , 0.   , 0.   , 0.001, 0.   , 0.   , 0.   , 0.001, 0.001,\n",
       "         0.001, 0.   , 0.   , 0.   , 0.   , 0.   , 0.   , 0.001, 0.   ,\n",
       "         0.   , 0.   , 0.001, 0.   , 0.001, 0.001, 0.001, 0.001, 0.   ,\n",
       "         0.001, 0.001, 0.   , 0.   , 0.   , 0.   , 0.   , 0.   , 0.   ,\n",
       "         0.001, 0.001, 0.   , 0.001, 0.   , 0.   , 0.001, 0.   , 0.001,\n",
       "         0.   , 0.   , 0.   , 0.   , 0.   , 0.001, 0.   , 0.001, 0.   ,\n",
       "         0.001, 0.   , 0.001, 0.001, 0.   , 0.   , 0.   , 0.   , 0.001,\n",
       "         0.001, 0.   , 0.   , 0.   , 0.001, 0.   , 0.001, 0.001, 0.   ,\n",
       "         0.   , 0.001, 0.   , 0.   , 0.001, 0.001, 0.   , 0.   , 0.001,\n",
       "         0.   , 0.   , 0.001, 0.   , 0.   , 0.   , 0.   , 0.   , 0.   ,\n",
       "         0.   , 0.001, 0.001, 0.001, 0.   , 0.   , 0.   , 0.   , 0.   ,\n",
       "         0.   , 0.001, 0.001, 0.   , 0.   , 0.001, 0.   , 0.   , 0.001,\n",
       "         0.   , 0.001, 0.001, 0.001, 0.   , 0.   , 0.001, 0.001, 0.001,\n",
       "         0.   , 0.001, 0.   , 0.001, 0.   , 0.001, 0.   , 0.   , 0.   ,\n",
       "         0.   , 0.001, 0.   ]])"
      ]
     },
     "execution_count": 58,
     "metadata": {},
     "output_type": "execute_result"
    }
   ],
   "source": [
    "import numpy as np\n",
    "from sklearn.preprocessing import FunctionTransformer\n",
    "\n",
    "def function1(z):\n",
    "    return np.divide(z,1000)\n",
    "\n",
    "FT = FunctionTransformer(func = function1)\n",
    "FT.fit_transform(X)\n",
    "FT.fit_transform(y)"
   ]
  },
  {
   "cell_type": "code",
   "execution_count": 59,
   "id": "7e8bde97",
   "metadata": {
    "colab": {
     "base_uri": "https://localhost:8080/"
    },
    "id": "7e8bde97",
    "outputId": "e1ed621b-f7c8-49de-a30f-5d58276ce371"
   },
   "outputs": [
    {
     "name": "stderr",
     "output_type": "stream",
     "text": [
      "C:\\Users\\MoHaMeD\\AppData\\Local\\Temp\\ipykernel_8240\\2534227969.py:20: RuntimeWarning: overflow encountered in power\n",
      "  z = np.power(((X * theta.T) - y), 2)\n",
      "C:\\Users\\MoHaMeD\\AppData\\Local\\Temp\\ipykernel_8240\\2534227969.py:21: RuntimeWarning: overflow encountered in power\n",
      "  summation=np.sum( np.power( ( (X * theta.T) - y ), 2 ) )\n",
      "C:\\python\\python310\\lib\\site-packages\\numpy\\core\\_methods.py:48: RuntimeWarning: overflow encountered in reduce\n",
      "  return umr_sum(a, axis, dtype, out, keepdims, initial, where)\n"
     ]
    },
    {
     "name": "stdout",
     "output_type": "stream",
     "text": [
      "NEW THETA =  [[nan nan nan nan nan nan nan nan nan]]\n",
      "Final Cost =  nan\n"
     ]
    }
   ],
   "source": [
    "#### GRADIEN DESCENT ####\n",
    "def gradientDescent(X, y, theta, alpha, iters):\n",
    "    New_Theta   = np.matrix(np.zeros(theta.shape))\n",
    "    parameters  = int(theta.ravel().shape[1])\n",
    "    costs       = np.zeros(iters)\n",
    "    m           = len(X)\n",
    "    for i in range(iters):\n",
    "        error = (X * theta.T) - y\n",
    "        \n",
    "        for j in range(parameters):\n",
    "            term = np.multiply(error, X[:,j])\n",
    "            New_Theta[0,j] = theta[0,j] - ((alpha / m) * np.sum(term))\n",
    "            \n",
    "        theta    = New_Theta\n",
    "        costs[i] = computeCost(X, y, theta)\n",
    "        \n",
    "    return theta, costs\n",
    "# initialize variables for learning rate and iterations\n",
    "alpha = 0.001\n",
    "iters = 1000\n",
    "\n",
    "# perform gradient descent to \"fit\" the model parameters\n",
    "New_theta, costs = gradientDescent(X, y, theta, alpha, iters)\n",
    "\n",
    "print('NEW THETA = ' , New_theta) # final theta\n",
    "\n",
    "print('Final Cost = ' , computeCost(X, y, New_theta)) # final cost\n"
   ]
  },
  {
   "cell_type": "code",
   "execution_count": 142,
   "id": "sWliInHA9CY_",
   "metadata": {
    "colab": {
     "base_uri": "https://localhost:8080/",
     "height": 367
    },
    "collapsed": true,
    "id": "sWliInHA9CY_",
    "outputId": "b4b26a16-cdb6-46a3-b70c-970065a48be1"
   },
   "outputs": [
    {
     "ename": "AttributeError",
     "evalue": "'DataFrame' object has no attribute 'x'",
     "output_type": "error",
     "traceback": [
      "\u001b[1;31m---------------------------------------------------------------------------\u001b[0m",
      "\u001b[1;31mAttributeError\u001b[0m                            Traceback (most recent call last)",
      "Cell \u001b[1;32mIn [142], line 2\u001b[0m\n\u001b[0;32m      1\u001b[0m \u001b[38;5;66;03m### BEST FIT LINE ###\u001b[39;00m\n\u001b[1;32m----> 2\u001b[0m feature\u001b[38;5;241m=\u001b[39m np\u001b[38;5;241m.\u001b[39mlinspace(data\u001b[38;5;241m.\u001b[39mx\u001b[38;5;241m.\u001b[39mmin(), data\u001b[38;5;241m.\u001b[39mx\u001b[38;5;241m.\u001b[39mmax(), num\u001b[38;5;241m=\u001b[39m\u001b[38;5;241m70\u001b[39m)\n\u001b[0;32m      3\u001b[0m Points_Best_Fit_line \u001b[38;5;241m=\u001b[39m ( (New_theta[\u001b[38;5;241m0\u001b[39m, \u001b[38;5;241m0\u001b[39m]) \u001b[38;5;241m+\u001b[39m (New_theta[\u001b[38;5;241m0\u001b[39m, \u001b[38;5;241m1\u001b[39m] \u001b[38;5;241m*\u001b[39m feature) )\u001b[38;5;66;03m#teta0+theta1*x\u001b[39;00m\n\u001b[0;32m      5\u001b[0m \u001b[38;5;66;03m###draw the line###\u001b[39;00m\n",
      "File \u001b[1;32mC:\\python\\python310\\lib\\site-packages\\pandas\\core\\generic.py:5902\u001b[0m, in \u001b[0;36mNDFrame.__getattr__\u001b[1;34m(self, name)\u001b[0m\n\u001b[0;32m   5895\u001b[0m \u001b[38;5;28;01mif\u001b[39;00m (\n\u001b[0;32m   5896\u001b[0m     name \u001b[38;5;129;01mnot\u001b[39;00m \u001b[38;5;129;01min\u001b[39;00m \u001b[38;5;28mself\u001b[39m\u001b[38;5;241m.\u001b[39m_internal_names_set\n\u001b[0;32m   5897\u001b[0m     \u001b[38;5;129;01mand\u001b[39;00m name \u001b[38;5;129;01mnot\u001b[39;00m \u001b[38;5;129;01min\u001b[39;00m \u001b[38;5;28mself\u001b[39m\u001b[38;5;241m.\u001b[39m_metadata\n\u001b[0;32m   5898\u001b[0m     \u001b[38;5;129;01mand\u001b[39;00m name \u001b[38;5;129;01mnot\u001b[39;00m \u001b[38;5;129;01min\u001b[39;00m \u001b[38;5;28mself\u001b[39m\u001b[38;5;241m.\u001b[39m_accessors\n\u001b[0;32m   5899\u001b[0m     \u001b[38;5;129;01mand\u001b[39;00m \u001b[38;5;28mself\u001b[39m\u001b[38;5;241m.\u001b[39m_info_axis\u001b[38;5;241m.\u001b[39m_can_hold_identifiers_and_holds_name(name)\n\u001b[0;32m   5900\u001b[0m ):\n\u001b[0;32m   5901\u001b[0m     \u001b[38;5;28;01mreturn\u001b[39;00m \u001b[38;5;28mself\u001b[39m[name]\n\u001b[1;32m-> 5902\u001b[0m \u001b[38;5;28;01mreturn\u001b[39;00m \u001b[38;5;28;43mobject\u001b[39;49m\u001b[38;5;241;43m.\u001b[39;49m\u001b[38;5;21;43m__getattribute__\u001b[39;49m\u001b[43m(\u001b[49m\u001b[38;5;28;43mself\u001b[39;49m\u001b[43m,\u001b[49m\u001b[43m \u001b[49m\u001b[43mname\u001b[49m\u001b[43m)\u001b[49m\n",
      "\u001b[1;31mAttributeError\u001b[0m: 'DataFrame' object has no attribute 'x'"
     ]
    }
   ],
   "source": [
    "### BEST FIT LINE ###\n",
    "feature= np.linspace(data.x.min(), data.x.max(), num=70)\n",
    "Points_Best_Fit_line = ( (New_theta[0, 0]) + (New_theta[0, 1] * feature) )#teta0+theta1*x\n",
    "\n",
    "###draw the line###\n",
    "\n",
    "fig, shape = plt.subplots(figsize=(5,5))\n",
    "shape.plot(feature, Points_Best_Fit_line, 'r', label='Prediction')\n",
    "shape.scatter(x= data.x,y= data.y, label='Traning Data')\n",
    "shape.legend(loc=4)#place of descipetion of prdect and train data\n",
    "#describ the shape\n",
    "shape.set_xlabel('Population')\n",
    "shape.set_ylabel('Profit')\n",
    "shape.set_title('Predicted Profit vs. Population Size')"
   ]
  },
  {
   "cell_type": "code",
   "execution_count": 160,
   "id": "1f4d2fa1",
   "metadata": {},
   "outputs": [
    {
     "data": {
      "text/plain": [
       "Text(0.5, 1.0, 'Predicted Profit vs. Population Size')"
      ]
     },
     "execution_count": 160,
     "metadata": {},
     "output_type": "execute_result"
    },
    {
     "data": {
      "image/png": "[encoded data removed]",
      "text/plain": [
       "<Figure size 500x500 with 1 Axes>"
      ]
     },
     "metadata": {},
     "output_type": "display_data"
    }
   ],
   "source": [
    "### BEST FIT LINE ###\n",
    "feature= np.linspace(data.univ_GPA.min(), data.univ_GPA.max(), num=100)\n",
    "Points_Best_Fit_line = ( (New_theta[0, 0]) + (New_theta[0, 1] * feature) )#teta0+theta1*x\n",
    "\n",
    "###draw the line###\n",
    "\n",
    "fig, shape = plt.subplots(figsize=(5,5))\n",
    "shape.plot(feature, Points_Best_Fit_line, 'r', label='Prediction')\n",
    "shape.scatter(x= data.high_GPA,y= data.univ_GPA, label='Traning Data')\n",
    "shape.legend(loc=4)#place of descipetion of prdect and train data\n",
    "#describ the shape\n",
    "shape.set_xlabel('Population')\n",
    "shape.set_ylabel('Profit')\n",
    "shape.set_title('Predicted Profit vs. Population Size')"
   ]
  },
  {
   "cell_type": "code",
   "execution_count": 149,
   "id": "c7a3f69c",
   "metadata": {},
   "outputs": [
    {
     "data": {
      "text/plain": [
       "array([0.0054918 , 0.00553783, 0.00558386, 0.00562989, 0.00567592,\n",
       "       0.00572195, 0.00576799, 0.00581402, 0.00586005, 0.00590608,\n",
       "       0.00595211, 0.00599814, 0.00604418, 0.00609021, 0.00613624,\n",
       "       0.00618227, 0.0062283 , 0.00627433, 0.00632036, 0.0063664 ,\n",
       "       0.00641243, 0.00645846, 0.00650449, 0.00655052, 0.00659655,\n",
       "       0.00664259, 0.00668862, 0.00673465, 0.00678068, 0.00682671,\n",
       "       0.00687274, 0.00691878, 0.00696481, 0.00701084, 0.00705687,\n",
       "       0.0071029 , 0.00714893, 0.00719497, 0.007241  , 0.00728703,\n",
       "       0.00733306, 0.00737909, 0.00742512, 0.00747115, 0.00751719,\n",
       "       0.00756322, 0.00760925, 0.00765528, 0.00770131, 0.00774734,\n",
       "       0.00779338, 0.00783941, 0.00788544, 0.00793147, 0.0079775 ,\n",
       "       0.00802353, 0.00806957, 0.0081156 , 0.00816163, 0.00820766,\n",
       "       0.00825369, 0.00829972, 0.00834576, 0.00839179, 0.00843782,\n",
       "       0.00848385, 0.00852988, 0.00857591, 0.00862194, 0.00866798,\n",
       "       0.00871401, 0.00876004, 0.00880607, 0.0088521 , 0.00889813,\n",
       "       0.00894417, 0.0089902 , 0.00903623, 0.00908226, 0.00912829,\n",
       "       0.00917432, 0.00922036, 0.00926639, 0.00931242, 0.00935845,\n",
       "       0.00940448, 0.00945051, 0.00949655, 0.00954258, 0.00958861,\n",
       "       0.00963464, 0.00968067, 0.0097267 , 0.00977273, 0.00981877,\n",
       "       0.0098648 , 0.00991083, 0.00995686, 0.01000289, 0.01004892])"
      ]
     },
     "execution_count": 149,
     "metadata": {},
     "output_type": "execute_result"
    }
   ],
   "source": [
    "Points_Best_Fit_line"
   ]
  },
  {
   "cell_type": "code",
   "execution_count": 161,
   "id": "KiIsKttH9w_u",
   "metadata": {
    "colab": {
     "base_uri": "https://localhost:8080/",
     "height": 367
    },
    "id": "KiIsKttH9w_u",
    "outputId": "9306586e-b105-4958-b817-92340c1a17de",
    "scrolled": true
   },
   "outputs": [
    {
     "data": {
      "text/plain": [
       "Text(0.5, 1.0, 'Error vs. Training Epoch')"
      ]
     },
     "execution_count": 161,
     "metadata": {},
     "output_type": "execute_result"
    },
    {
     "data": {
      "image/png": "[encoded data removed]",
      "text/plain": [
       "<Figure size 500x500 with 1 Axes>"
      ]
     },
     "metadata": {},
     "output_type": "display_data"
    }
   ],
   "source": [
    "### draw error graph ###\n",
    "fig, ax = plt.subplots(figsize=(5,5))\n",
    "ax.plot(np.arange(iters), costs, 'r')\n",
    "ax.set_xlabel('Iterations')\n",
    "ax.set_ylabel('Cost')\n",
    "ax.set_title('Error vs. Training Epoch')\n"
   ]
  },
  {
   "cell_type": "code",
   "execution_count": 11,
   "id": "d82230ab",
   "metadata": {
    "id": "d82230ab"
   },
   "outputs": [],
   "source": [
    "### SPLIT DATA ###\n",
    "#X_train,X_test,y_train,y_test=train_test_split(X,y,test_size=0.2,random_state=1)\n",
    "X_train,X_test,y_train,y_test =train_test_split(X,y,test_size=0.30)"
   ]
  },
  {
   "cell_type": "code",
   "execution_count": 12,
   "id": "9ded4ae4",
   "metadata": {
    "id": "9ded4ae4"
   },
   "outputs": [
    {
     "data": {
      "text/html": [
       "<div>\n",
       "<style scoped>\n",
       "    .dataframe tbody tr th:only-of-type {\n",
       "        vertical-align: middle;\n",
       "    }\n",
       "\n",
       "    .dataframe tbody tr th {\n",
       "        vertical-align: top;\n",
       "    }\n",
       "\n",
       "    .dataframe thead th {\n",
       "        text-align: right;\n",
       "    }\n",
       "</style>\n",
       "<table border=\"1\" class=\"dataframe\">\n",
       "  <thead>\n",
       "    <tr style=\"text-align: right;\">\n",
       "      <th></th>\n",
       "      <th>Pregnancies</th>\n",
       "      <th>Glucose</th>\n",
       "      <th>BloodPressure</th>\n",
       "      <th>SkinThickness</th>\n",
       "      <th>Insulin</th>\n",
       "      <th>BMI</th>\n",
       "      <th>DiabetesPedigreeFunction</th>\n",
       "      <th>Age</th>\n",
       "    </tr>\n",
       "  </thead>\n",
       "  <tbody>\n",
       "    <tr>\n",
       "      <th>626</th>\n",
       "      <td>0</td>\n",
       "      <td>125</td>\n",
       "      <td>68</td>\n",
       "      <td>0</td>\n",
       "      <td>0</td>\n",
       "      <td>24.7</td>\n",
       "      <td>0.206</td>\n",
       "      <td>21</td>\n",
       "    </tr>\n",
       "    <tr>\n",
       "      <th>216</th>\n",
       "      <td>5</td>\n",
       "      <td>109</td>\n",
       "      <td>62</td>\n",
       "      <td>41</td>\n",
       "      <td>129</td>\n",
       "      <td>35.8</td>\n",
       "      <td>0.514</td>\n",
       "      <td>25</td>\n",
       "    </tr>\n",
       "    <tr>\n",
       "      <th>727</th>\n",
       "      <td>0</td>\n",
       "      <td>141</td>\n",
       "      <td>84</td>\n",
       "      <td>26</td>\n",
       "      <td>0</td>\n",
       "      <td>32.4</td>\n",
       "      <td>0.433</td>\n",
       "      <td>22</td>\n",
       "    </tr>\n",
       "    <tr>\n",
       "      <th>126</th>\n",
       "      <td>3</td>\n",
       "      <td>120</td>\n",
       "      <td>70</td>\n",
       "      <td>30</td>\n",
       "      <td>135</td>\n",
       "      <td>42.9</td>\n",
       "      <td>0.452</td>\n",
       "      <td>30</td>\n",
       "    </tr>\n",
       "    <tr>\n",
       "      <th>5</th>\n",
       "      <td>5</td>\n",
       "      <td>116</td>\n",
       "      <td>74</td>\n",
       "      <td>0</td>\n",
       "      <td>0</td>\n",
       "      <td>25.6</td>\n",
       "      <td>0.201</td>\n",
       "      <td>30</td>\n",
       "    </tr>\n",
       "    <tr>\n",
       "      <th>...</th>\n",
       "      <td>...</td>\n",
       "      <td>...</td>\n",
       "      <td>...</td>\n",
       "      <td>...</td>\n",
       "      <td>...</td>\n",
       "      <td>...</td>\n",
       "      <td>...</td>\n",
       "      <td>...</td>\n",
       "    </tr>\n",
       "    <tr>\n",
       "      <th>607</th>\n",
       "      <td>1</td>\n",
       "      <td>92</td>\n",
       "      <td>62</td>\n",
       "      <td>25</td>\n",
       "      <td>41</td>\n",
       "      <td>19.5</td>\n",
       "      <td>0.482</td>\n",
       "      <td>25</td>\n",
       "    </tr>\n",
       "    <tr>\n",
       "      <th>357</th>\n",
       "      <td>13</td>\n",
       "      <td>129</td>\n",
       "      <td>0</td>\n",
       "      <td>30</td>\n",
       "      <td>0</td>\n",
       "      <td>39.9</td>\n",
       "      <td>0.569</td>\n",
       "      <td>44</td>\n",
       "    </tr>\n",
       "    <tr>\n",
       "      <th>74</th>\n",
       "      <td>1</td>\n",
       "      <td>79</td>\n",
       "      <td>75</td>\n",
       "      <td>30</td>\n",
       "      <td>0</td>\n",
       "      <td>32.0</td>\n",
       "      <td>0.396</td>\n",
       "      <td>22</td>\n",
       "    </tr>\n",
       "    <tr>\n",
       "      <th>428</th>\n",
       "      <td>0</td>\n",
       "      <td>135</td>\n",
       "      <td>94</td>\n",
       "      <td>46</td>\n",
       "      <td>145</td>\n",
       "      <td>40.6</td>\n",
       "      <td>0.284</td>\n",
       "      <td>26</td>\n",
       "    </tr>\n",
       "    <tr>\n",
       "      <th>574</th>\n",
       "      <td>1</td>\n",
       "      <td>143</td>\n",
       "      <td>86</td>\n",
       "      <td>30</td>\n",
       "      <td>330</td>\n",
       "      <td>30.1</td>\n",
       "      <td>0.892</td>\n",
       "      <td>23</td>\n",
       "    </tr>\n",
       "  </tbody>\n",
       "</table>\n",
       "<p>537 rows × 8 columns</p>\n",
       "</div>"
      ],
      "text/plain": [
       "     Pregnancies  Glucose  BloodPressure  SkinThickness  Insulin   BMI  \\\n",
       "626            0      125             68              0        0  24.7   \n",
       "216            5      109             62             41      129  35.8   \n",
       "727            0      141             84             26        0  32.4   \n",
       "126            3      120             70             30      135  42.9   \n",
       "5              5      116             74              0        0  25.6   \n",
       "..           ...      ...            ...            ...      ...   ...   \n",
       "607            1       92             62             25       41  19.5   \n",
       "357           13      129              0             30        0  39.9   \n",
       "74             1       79             75             30        0  32.0   \n",
       "428            0      135             94             46      145  40.6   \n",
       "574            1      143             86             30      330  30.1   \n",
       "\n",
       "     DiabetesPedigreeFunction  Age  \n",
       "626                     0.206   21  \n",
       "216                     0.514   25  \n",
       "727                     0.433   22  \n",
       "126                     0.452   30  \n",
       "5                       0.201   30  \n",
       "..                        ...  ...  \n",
       "607                     0.482   25  \n",
       "357                     0.569   44  \n",
       "74                      0.396   22  \n",
       "428                     0.284   26  \n",
       "574                     0.892   23  \n",
       "\n",
       "[537 rows x 8 columns]"
      ]
     },
     "execution_count": 12,
     "metadata": {},
     "output_type": "execute_result"
    }
   ],
   "source": [
    "X_train"
   ]
  },
  {
   "cell_type": "code",
   "execution_count": null,
   "id": "e7426236",
   "metadata": {
    "collapsed": true,
    "id": "e7426236"
   },
   "outputs": [],
   "source": [
    "y_train"
   ]
  },
  {
   "cell_type": "code",
   "execution_count": null,
   "id": "fabadb0c",
   "metadata": {
    "collapsed": true,
    "id": "fabadb0c"
   },
   "outputs": [],
   "source": [
    "X_test"
   ]
  },
  {
   "cell_type": "code",
   "execution_count": null,
   "id": "c1c6384c",
   "metadata": {
    "collapsed": true,
    "id": "c1c6384c"
   },
   "outputs": [],
   "source": [
    "y_test"
   ]
  },
  {
   "cell_type": "code",
   "execution_count": null,
   "id": "ae4f7e81",
   "metadata": {
    "id": "ae4f7e81"
   },
   "outputs": [],
   "source": []
  },
  {
   "cell_type": "code",
   "execution_count": 50,
   "id": "73a2dce7",
   "metadata": {
    "colab": {
     "base_uri": "https://localhost:8080/"
    },
    "id": "73a2dce7",
    "outputId": "1d39ed60-f072-4c89-ebc2-89e9692b3d26"
   },
   "outputs": [
    {
     "name": "stderr",
     "output_type": "stream",
     "text": [
      "/usr/local/lib/python3.7/dist-packages/sklearn/utils/validation.py:598: FutureWarning: np.matrix usage is deprecated in 1.0 and will raise a TypeError in 1.2. Please convert to a numpy array with np.asarray. For more information see: https://numpy.org/doc/stable/reference/generated/numpy.matrix.html\n",
      "  FutureWarning,\n",
      "/usr/local/lib/python3.7/dist-packages/sklearn/utils/validation.py:598: FutureWarning: np.matrix usage is deprecated in 1.0 and will raise a TypeError in 1.2. Please convert to a numpy array with np.asarray. For more information see: https://numpy.org/doc/stable/reference/generated/numpy.matrix.html\n",
      "  FutureWarning,\n"
     ]
    },
    {
     "data": {
      "text/plain": [
       "LinearRegression()"
      ]
     },
     "execution_count": 50,
     "metadata": {},
     "output_type": "execute_result"
    }
   ],
   "source": [
    "model=LinearRegression(n_jobs=-1)\n",
    "model.fit(X_train,y_train)"
   ]
  },
  {
   "cell_type": "code",
   "execution_count": 53,
   "id": "e2e630f0",
   "metadata": {
    "colab": {
     "base_uri": "https://localhost:8080/"
    },
    "id": "e2e630f0",
    "outputId": "578c73cf-484d-4d04-adf3-722931149fa5"
   },
   "outputs": [
    {
     "name": "stdout",
     "output_type": "stream",
     "text": [
      "81.69391802258106\n"
     ]
    },
    {
     "name": "stderr",
     "output_type": "stream",
     "text": [
      "/usr/local/lib/python3.7/dist-packages/sklearn/utils/validation.py:598: FutureWarning: np.matrix usage is deprecated in 1.0 and will raise a TypeError in 1.2. Please convert to a numpy array with np.asarray. For more information see: https://numpy.org/doc/stable/reference/generated/numpy.matrix.html\n",
      "  FutureWarning,\n",
      "/usr/local/lib/python3.7/dist-packages/sklearn/utils/validation.py:598: FutureWarning: np.matrix usage is deprecated in 1.0 and will raise a TypeError in 1.2. Please convert to a numpy array with np.asarray. For more information see: https://numpy.org/doc/stable/reference/generated/numpy.matrix.html\n",
      "  FutureWarning,\n"
     ]
    }
   ],
   "source": [
    "print((model.score(X_train,y_train))*100)"
   ]
  },
  {
   "cell_type": "code",
   "execution_count": 54,
   "id": "9e7b70f9",
   "metadata": {
    "colab": {
     "base_uri": "https://localhost:8080/"
    },
    "id": "9e7b70f9",
    "outputId": "00ea4838-fe03-410a-ecbe-712c68731c17"
   },
   "outputs": [
    {
     "name": "stdout",
     "output_type": "stream",
     "text": [
      "81.95152788079339\n"
     ]
    },
    {
     "name": "stderr",
     "output_type": "stream",
     "text": [
      "/usr/local/lib/python3.7/dist-packages/sklearn/utils/validation.py:598: FutureWarning: np.matrix usage is deprecated in 1.0 and will raise a TypeError in 1.2. Please convert to a numpy array with np.asarray. For more information see: https://numpy.org/doc/stable/reference/generated/numpy.matrix.html\n",
      "  FutureWarning,\n",
      "/usr/local/lib/python3.7/dist-packages/sklearn/utils/validation.py:598: FutureWarning: np.matrix usage is deprecated in 1.0 and will raise a TypeError in 1.2. Please convert to a numpy array with np.asarray. For more information see: https://numpy.org/doc/stable/reference/generated/numpy.matrix.html\n",
      "  FutureWarning,\n"
     ]
    }
   ],
   "source": [
    "print((model.score(X_test,y_test))*100)"
   ]
  },
  {
   "cell_type": "code",
   "execution_count": 130,
   "id": "23761109",
   "metadata": {
    "colab": {
     "base_uri": "https://localhost:8080/"
    },
    "id": "23761109",
    "outputId": "c81c3b30-eb17-41f2-be65-19ebe8142abb"
   },
   "outputs": [
    {
     "ename": "NameError",
     "evalue": "name 'model' is not defined",
     "output_type": "error",
     "traceback": [
      "\u001b[1;31m---------------------------------------------------------------------------\u001b[0m",
      "\u001b[1;31mNameError\u001b[0m                                 Traceback (most recent call last)",
      "Cell \u001b[1;32mIn [130], line 1\u001b[0m\n\u001b[1;32m----> 1\u001b[0m y_predect\u001b[38;5;241m=\u001b[39mmodel\u001b[38;5;241m.\u001b[39mpredict(X_test)\n\u001b[0;32m      2\u001b[0m \u001b[38;5;28mprint\u001b[39m(\u001b[38;5;124mf\u001b[39m\u001b[38;5;124m\"\u001b[39m\u001b[38;5;124mvalues :\u001b[39m\u001b[38;5;130;01m\\n\u001b[39;00m\u001b[38;5;132;01m{\u001b[39;00my_test\u001b[38;5;132;01m}\u001b[39;00m\u001b[38;5;130;01m\\n\u001b[39;00m\u001b[38;5;130;01m\\n\u001b[39;00m\u001b[38;5;124m predect :\u001b[39m\u001b[38;5;130;01m\\n\u001b[39;00m\u001b[38;5;132;01m{\u001b[39;00my_predect\u001b[38;5;132;01m}\u001b[39;00m\u001b[38;5;124m\"\u001b[39m)\n",
      "\u001b[1;31mNameError\u001b[0m: name 'model' is not defined"
     ]
    }
   ],
   "source": [
    "y_predect=model.predict(X_test)\n",
    "print(f\"values :\\n{y_test}\\n\\n predect :\\n{y_predect}\")"
   ]
  },
  {
   "cell_type": "code",
   "execution_count": 40,
   "id": "1413dfc4",
   "metadata": {
    "colab": {
     "base_uri": "https://localhost:8080/"
    },
    "collapsed": true,
    "id": "1413dfc4",
    "outputId": "b1c1bea9-afd1-440a-f1c1-928ae627a607"
   },
   "outputs": [
    {
     "data": {
      "text/plain": [
       "matrix([[ 7.7754 ],\n",
       "        [ 0.55657],\n",
       "        [ 6.7318 ],\n",
       "        [ 5.1694 ],\n",
       "        [ 1.0463 ],\n",
       "        [12.134  ],\n",
       "        [ 1.4233 ],\n",
       "        [ 5.4974 ],\n",
       "        [ 6.7504 ],\n",
       "        [ 0.152  ],\n",
       "        [ 9.0551 ],\n",
       "        [ 3.9115 ],\n",
       "        [ 5.4141 ],\n",
       "        [14.692  ],\n",
       "        [ 1.0179 ],\n",
       "        [ 4.1164 ],\n",
       "        [ 0.92695],\n",
       "        [ 2.4406 ],\n",
       "        [-0.74279],\n",
       "        [ 5.7014 ],\n",
       "        [ 2.4756 ],\n",
       "        [ 1.8451 ],\n",
       "        [ 0.61705],\n",
       "        [ 0.20421]])"
      ]
     },
     "execution_count": 40,
     "metadata": {},
     "output_type": "execute_result"
    }
   ],
   "source": [
    "y_test"
   ]
  },
  {
   "cell_type": "code",
   "execution_count": 129,
   "id": "Z4INHIsi-Kdm",
   "metadata": {
    "id": "Z4INHIsi-Kdm"
   },
   "outputs": [
    {
     "data": {
      "text/plain": [
       "<matplotlib.collections.PathCollection at 0x281a0bd0dc0>"
      ]
     },
     "execution_count": 129,
     "metadata": {},
     "output_type": "execute_result"
    },
    {
     "data": {
      "image/png": "[encoded data removed]",
      "text/plain": [
       "<Figure size 640x480 with 1 Axes>"
      ]
     },
     "metadata": {},
     "output_type": "display_data"
    }
   ],
   "source": [
    "plt.scatter(x='y_predect',y='y_test')"
   ]
  },
  {
   "cell_type": "code",
   "execution_count": 127,
   "id": "5a16fc32",
   "metadata": {},
   "outputs": [
    {
     "ename": "NameError",
     "evalue": "name 'y_predect' is not defined",
     "output_type": "error",
     "traceback": [
      "\u001b[1;31m---------------------------------------------------------------------------\u001b[0m",
      "\u001b[1;31mNameError\u001b[0m                                 Traceback (most recent call last)",
      "Cell \u001b[1;32mIn [127], line 2\u001b[0m\n\u001b[0;32m      1\u001b[0m plt\u001b[38;5;241m.\u001b[39mscatter(data[\u001b[38;5;124m'\u001b[39m\u001b[38;5;124mhigh_GPA\u001b[39m\u001b[38;5;124m'\u001b[39m],data[\u001b[38;5;124m'\u001b[39m\u001b[38;5;124muniv_GPA\u001b[39m\u001b[38;5;124m'\u001b[39m],c\u001b[38;5;241m=\u001b[39m\u001b[38;5;124m'\u001b[39m\u001b[38;5;124mr\u001b[39m\u001b[38;5;124m'\u001b[39m) \u001b[38;5;66;03m#second method\u001b[39;00m\n\u001b[1;32m----> 2\u001b[0m plt\u001b[38;5;241m.\u001b[39mplot(data[\u001b[38;5;124m'\u001b[39m\u001b[38;5;124mhigh_GPA\u001b[39m\u001b[38;5;124m'\u001b[39m],y_predect,c\u001b[38;5;241m=\u001b[39m\u001b[38;5;124m'\u001b[39m\u001b[38;5;124mb\u001b[39m\u001b[38;5;124m'\u001b[39m)\n",
      "\u001b[1;31mNameError\u001b[0m: name 'y_predect' is not defined"
     ]
    },
    {
     "data": {
      "image/png": "[encoded data removed]",
      "text/plain": [
       "<Figure size 640x480 with 1 Axes>"
      ]
     },
     "metadata": {},
     "output_type": "display_data"
    }
   ],
   "source": [
    "plt.scatter(data['high_GPA'],data['univ_GPA'],c='r') #second method\n",
    "plt.plot(data['high_GPA'],y_predect,c='b')"
   ]
  },
  {
   "cell_type": "code",
   "execution_count": null,
   "id": "95c54fd0",
   "metadata": {},
   "outputs": [],
   "source": []
  }
 ],
 "metadata": {
  "colab": {
   "provenance": []
  },
  "kernelspec": {
   "display_name": "Python 3 (ipykernel)",
   "language": "python",
   "name": "python3"
  },
  "language_info": {
   "codemirror_mode": {
    "name": "ipython",
    "version": 3
   },
   "file_extension": ".py",
   "mimetype": "text/x-python",
   "name": "python",
   "nbconvert_exporter": "python",
   "pygments_lexer": "ipython3",
   "version": "3.10.8"
  },
  "vscode": {
   "interpreter": {
    "hash": "0c3136af1c3cd84bf5255f4a09e2aa61169809d15abf9aeede9c0365cbba6c55"
   }
  }
 },
 "nbformat": 4,
 "nbformat_minor": 5
}
