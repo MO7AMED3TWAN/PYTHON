{
 "cells": [
  {
   "cell_type": "code",
   "execution_count": 1,
   "id": "dc0fa572",
   "metadata": {},
   "outputs": [],
   "source": [
    "import numpy as np\n",
    "import matplotlib.pyplot as plt"
   ]
  },
  {
   "cell_type": "code",
   "execution_count": 2,
   "id": "0373d0eb",
   "metadata": {},
   "outputs": [
    {
     "data": {
      "text/plain": [
       "array([[-1.        , -0.63245553,  0.        ,  0.26062335],\n",
       "       [ 0.33333333,  1.26491106,  1.73205081,  1.56374007],\n",
       "       [-1.        ,  0.63245553, -0.57735027, -0.1737489 ],\n",
       "       [ 0.33333333,  0.        , -0.57735027, -1.04249338],\n",
       "       [ 1.33333333, -1.26491106, -0.57735027, -0.60812114]])"
      ]
     },
     "execution_count": 2,
     "metadata": {},
     "output_type": "execute_result"
    }
   ],
   "source": [
    "# STEP 1 : STANDARDIZATION\n",
    "\n",
    "features = np.array([[1, 2, 3, 4],\n",
    "                     [5, 5, 6, 7],\n",
    "                     [1, 4, 2, 3],\n",
    "                     [5, 3, 2, 1],\n",
    "                     [8, 1, 2, 2]])\n",
    "\n",
    "new_features = (features - features.mean(axis=0)) / (features.std(axis=0, ddof=1))\n",
    "\n",
    "new_features"
   ]
  },
  {
   "cell_type": "code",
   "execution_count": 3,
   "id": "30faf541",
   "metadata": {},
   "outputs": [
    {
     "data": {
      "text/plain": [
       "array([[ 0.8       , -0.25298221,  0.03849002, -0.14479075],\n",
       "       [-0.25298221,  0.8       ,  0.51120772,  0.49449803],\n",
       "       [ 0.03849002,  0.51120772,  0.8       ,  0.75235479],\n",
       "       [-0.14479075,  0.49449803,  0.75235479,  0.8       ]])"
      ]
     },
     "execution_count": 3,
     "metadata": {},
     "output_type": "execute_result"
    }
   ],
   "source": [
    "# STEP 2 : CALCULATE COVARIANCE MATRIX COMPUTATION\n",
    "\n",
    "covar_mat = np.cov(new_features.T, ddof=0)\n",
    "\n",
    "covar_mat"
   ]
  },
  {
   "cell_type": "code",
   "execution_count": 4,
   "id": "21d8a2eb",
   "metadata": {},
   "outputs": [
    {
     "name": "stdout",
     "output_type": "stream",
     "text": [
      "Eigenvector for Feature 1: \n",
      "[[ 0.16195986]\n",
      " [-0.52404813]\n",
      " [-0.58589647]\n",
      " [-0.59654663]]\n",
      "Eigenvalue: 2.0126345926479567\n",
      "----------------------------------------\n",
      "Eigenvector for Feature 2: \n",
      "[[-0.91705888]\n",
      " [ 0.20692161]\n",
      " [-0.3205394 ]\n",
      " [-0.11593512]]\n",
      "Eigenvalue: 0.8522308028065159\n",
      "----------------------------------------\n",
      "Eigenvector for Feature 3: \n",
      "[[-0.30707099]\n",
      " [-0.81731886]\n",
      " [ 0.1882497 ]\n",
      " [ 0.44973251]]\n",
      "Eigenvalue: 0.31510963504195705\n",
      "----------------------------------------\n",
      "Eigenvector for Feature 4: \n",
      "[[ 0.19616173]\n",
      " [ 0.12061043]\n",
      " [-0.72009851]\n",
      " [ 0.65454704]]\n",
      "Eigenvalue: 0.02002496950357272\n",
      "----------------------------------------\n"
     ]
    }
   ],
   "source": [
    "#STEP 3 : COMPUTE THE EIGENVECTORS AND EIGENVALUES OF THE COVARIANCE MATRIX \n",
    "\n",
    "eigenValues, eigenVectors = np.linalg.eig(covar_mat)\n",
    "\n",
    "for i in range(len(eigenValues)):\n",
    "    eigvec = eigenVectors[:, i].reshape(4,1)\n",
    "    print(f'Eigenvector for Feature {i+1}: \\n{eigvec}')\n",
    "    print(f'Eigenvalue: {eigenValues[i]}')\n",
    "    print(\"-\"*40)"
   ]
  },
  {
   "cell_type": "code",
   "execution_count": 5,
   "id": "e210e500",
   "metadata": {},
   "outputs": [
    {
     "name": "stdout",
     "output_type": "stream",
     "text": [
      "Eigenvalue = 2.0126345926479567, Eigenvector = [ 0.16195986 -0.52404813 -0.58589647 -0.59654663]\n",
      "Eigenvalue = 0.8522308028065159, Eigenvector = [-0.91705888  0.20692161 -0.3205394  -0.11593512]\n",
      "Eigenvalue = 0.31510963504195705, Eigenvector = [-0.30707099 -0.81731886  0.1882497   0.44973251]\n",
      "Eigenvalue = 0.02002496950357272, Eigenvector = [ 0.19616173  0.12061043 -0.72009851  0.65454704]\n"
     ]
    }
   ],
   "source": [
    "# STEP 4 : SORTING EIGENVALUES AND THEIR CORRESPONDING EIGENVECTORS\n",
    "\n",
    "eig_sorted = [(np.abs(eigenValues[i]), eigenVectors[:, i]) for i in range(len(eigenValues))]\n",
    "eig_sorted.sort(reverse=True)\n",
    "for i in eig_sorted:\n",
    "    print(f\"Eigenvalue = {i[0]}, Eigenvector = {i[1]}\")"
   ]
  },
  {
   "cell_type": "code",
   "execution_count": 6,
   "id": "68fef5af",
   "metadata": {},
   "outputs": [
    {
     "name": "stdout",
     "output_type": "stream",
     "text": [
      "[[ 0.16195986 -0.91705888]\n",
      " [-0.52404813  0.20692161]\n",
      " [-0.58589647 -0.3205394 ]\n",
      " [-0.59654663 -0.11593512]]\n",
      "(5, 4)  *  (4, 2)\n"
     ]
    }
   ],
   "source": [
    "# STEP 5 : PIKE K VALUE\n",
    "\n",
    "matrix_k = np.hstack((eig_sorted[0][1], eig_sorted[1][1])).reshape(2, 4)\n",
    "matrix_k = np.transpose(matrix_k)\n",
    "print (matrix_k)\n",
    "\n",
    "print(features.shape , \" * \" , matrix_k.shape)"
   ]
  },
  {
   "cell_type": "code",
   "execution_count": 7,
   "id": "26d96089",
   "metadata": {},
   "outputs": [
    {
     "data": {
      "text/plain": [
       "array([[ 1.40033078e-02,  7.55974765e-01],\n",
       "       [-2.55653399e+00, -7.80431775e-01],\n",
       "       [-5.14801919e-02,  1.25313470e+00],\n",
       "       [ 1.01415002e+00,  2.38808310e-04],\n",
       "       [ 1.57986086e+00, -1.22891650e+00]])"
      ]
     },
     "execution_count": 7,
     "metadata": {},
     "output_type": "execute_result"
    }
   ],
   "source": [
    "# STEP 6 :TRANSFORM THE ORIGINAL MATRIX\n",
    "\n",
    "multiplication = np.dot(new_features, matrix_k)\n",
    "multiplication"
   ]
  },
  {
   "cell_type": "code",
   "execution_count": null,
   "id": "bcc5aa81",
   "metadata": {},
   "outputs": [],
   "source": []
  }
 ],
 "metadata": {
  "kernelspec": {
   "display_name": "Python 3 (ipykernel)",
   "language": "python",
   "name": "python3"
  },
  "language_info": {
   "codemirror_mode": {
    "name": "ipython",
    "version": 3
   },
   "file_extension": ".py",
   "mimetype": "text/x-python",
   "name": "python",
   "nbconvert_exporter": "python",
   "pygments_lexer": "ipython3",
   "version": "3.9.12"
  }
 },
 "nbformat": 4,
 "nbformat_minor": 5
}
