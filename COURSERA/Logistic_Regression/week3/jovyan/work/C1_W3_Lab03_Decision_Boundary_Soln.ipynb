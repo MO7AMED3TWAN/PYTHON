{
 "cells": [
  {
   "cell_type": "markdown",
   "id": "f1cc65d6",
   "metadata": {},
   "source": [
    "# Optional Lab: Logistic Regression, Decision Boundary\n"
   ]
  },
  {
   "cell_type": "markdown",
   "id": "86fe6af0",
   "metadata": {},
   "source": [
    "## Goals\n",
    "In this lab, you will:\n",
    "- Plot the decision boundary for a logistic regression model. This will give you a better sense of what the model is predicting.\n"
   ]
  },
  {
   "cell_type": "code",
   "execution_count": 1,
   "id": "6ee320a5",
   "metadata": {},
   "outputs": [],
   "source": [
    "import numpy as np\n",
    "%matplotlib widget\n",
    "import matplotlib.pyplot as plt\n",
    "from lab_utils_common import plot_data, sigmoid, draw_vthresh\n",
    "plt.style.use('./deeplearning.mplstyle')"
   ]
  },
  {
   "cell_type": "markdown",
   "id": "7867bf8d",
   "metadata": {},
   "source": [
    "## Dataset\n",
    "\n",
    "Let's suppose you have following training dataset\n",
    "- The input variable `X` is a numpy array which has 6 training examples, each with two features\n",
    "- The output variable `y` is also a numpy array with 6 examples, and `y` is either `0` or `1`"
   ]
  },
  {
   "cell_type": "code",
   "execution_count": 14,
   "id": "9baca38b",
   "metadata": {},
   "outputs": [],
   "source": [
    "X = np.array([[0.5, 1.5], [1,1], [1.5, 0.5], [3, 0.5], [2, 2], [1, 2.5]])\n",
    "y = np.array([0, 0, 0, 1, 1, 1]).reshape(-1,1) "
   ]
  },
  {
   "cell_type": "markdown",
   "id": "182b8eb5",
   "metadata": {},
   "source": [
    "### Plot data \n",
    "\n",
    "Let's use a helper function to plot this data. The data points with label $y=1$ are shown as red crosses, while the data points with label $y=0$ are shown as blue circles. "
   ]
  },
  {
   "cell_type": "code",
   "execution_count": 20,
   "id": "89a44af6",
   "metadata": {},
   "outputs": [
    {
     "data": {
      "application/vnd.jupyter.widget-view+json": {
       "model_id": "1c350b4969574acbaff2d33aa1b087e6",
       "version_major": 2,
       "version_minor": 0
      },
      "image/png": "[encoded data removed]",
      "text/html": [
       "\n",
       "            <div style=\"display: inline-block;\">\n",
       "                <div class=\"jupyter-widgets widget-label\" style=\"text-align: center;\">\n",
       "                    Figure\n",
       "                </div>\n",
       "                <img src='data:image/png;base64,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' width=400.0/>\n",
       "            </div>\n",
       "        "
      ],
      "text/plain": [
       "Canvas(footer_visible=False, header_visible=False, toolbar=Toolbar(toolitems=[('Home', 'Reset original view', …"
      ]
     },
     "metadata": {},
     "output_type": "display_data"
    }
   ],
   "source": [
    "fig,ax = plt.subplots(1,1,figsize=(4,4))\n",
    "plot_data(X, y, ax)\n",
    "\n",
    "ax.axis([0, 10, 0,10])\n",
    "ax.set_ylabel('$x_1$')\n",
    "ax.set_xlabel('$x_0$')\n",
    "plt.show()"
   ]
  },
  {
   "cell_type": "markdown",
   "id": "bdfd265a",
   "metadata": {},
   "source": [
    "## Logistic regression model\n",
    "\n",
    "\n",
    "* Suppose you'd like to train a logistic regression model on this data which has the form   \n",
    "\n",
    "  $f(x) = g(w_0x_0+w_1x_1 + b)$\n",
    "  \n",
    "  where $g(z) = \\frac{1}{1+e^{-z}}$, which is the sigmoid function\n",
    "\n",
    "\n",
    "* Let's say that you trained the model and get the parameters as $b = -3, w_0 = 1, w_1 = 1$. That is,\n",
    "\n",
    "  $f(x) = g(x_0+x_1-3)$\n",
    "\n",
    "  (You'll learn how to fit these parameters to the data further in the course)\n",
    "  \n",
    "  \n",
    "Let's try to understand what this trained model is predicting by plotting its decision boundary"
   ]
  },
  {
   "cell_type": "markdown",
   "id": "3251639a",
   "metadata": {},
   "source": [
    "### Refresher on logistic regression and decision boundary\n",
    "\n",
    "* Recall that for logistic regression, the model is represented as \n",
    "\n",
    "  $$f_{\\mathbf{w},b}(\\mathbf{x}^{(i)}) = g(\\mathbf{w} \\cdot \\mathbf{x}^{(i)} + b) \\tag{1}$$\n",
    "\n",
    "  where $g(z)$ is known as the sigmoid function and it maps all input values to values between 0 and 1:\n",
    "\n",
    "  $g(z) = \\frac{1}{1+e^{-z}}\\tag{2}$\n",
    "  and $\\mathbf{w} \\cdot \\mathbf{x}$ is the vector dot product:\n",
    "  \n",
    "  $$\\mathbf{w} \\cdot \\mathbf{x} = w_0 x_0 + w_1 x_1$$\n",
    "  \n",
    "  \n",
    " * We interpret the output of the model ($f_{\\mathbf{w},b}(x)$) as the probability that $y=1$ given $\\mathbf{x}$ and parameterized by $\\mathbf{w}$ and $b$.\n",
    "* Therefore, to get a final prediction ($y=0$ or $y=1$) from the logistic regression model, we can use the following heuristic -\n",
    "\n",
    "  if $f_{\\mathbf{w},b}(x) >= 0.5$, predict $y=1$\n",
    "  \n",
    "  if $f_{\\mathbf{w},b}(x) < 0.5$, predict $y=0$\n",
    "  \n",
    "  \n",
    "* Let's plot the sigmoid function to see where $g(z) >= 0.5$"
   ]
  },
  {
   "cell_type": "code",
   "execution_count": null,
   "id": "a73f3496",
   "metadata": {},
   "outputs": [],
   "source": [
    "# Plot sigmoid(z) over a range of values from -10 to 10\n",
    "z = np.arange(-10,11)\n",
    "\n",
    "fig,ax = plt.subplots(1,1,figsize=(5,3))\n",
    "# Plot z vs sigmoid(z)\n",
    "ax.plot(z, sigmoid(z), c=\"b\")\n",
    "\n",
    "ax.set_title(\"Sigmoid function\")\n",
    "ax.set_ylabel('sigmoid(z)')\n",
    "ax.set_xlabel('z')\n",
    "draw_vthresh(ax,0)"
   ]
  },
  {
   "cell_type": "markdown",
   "id": "7b5bea62",
   "metadata": {},
   "source": [
    "* As you can see, $g(z) >= 0.5$ for $z >=0$\n",
    "\n",
    "* For a logistic regression model, $z = \\mathbf{w} \\cdot \\mathbf{x} + b$. Therefore,\n",
    "\n",
    "  if $\\mathbf{w} \\cdot \\mathbf{x} + b >= 0$, the model predicts $y=1$\n",
    "  \n",
    "  if $\\mathbf{w} \\cdot \\mathbf{x} + b < 0$, the model predicts $y=0$\n",
    "  \n",
    "  \n",
    "  \n",
    "### Plotting decision boundary\n",
    "\n",
    "Now, let's go back to our example to understand how the logistic regression model is making predictions.\n",
    "\n",
    "* Our logistic regression model has the form\n",
    "\n",
    "  $f(\\mathbf{x}) = g(-3 + x_0+x_1)$\n",
    "\n",
    "\n",
    "* From what you've learnt above, you can see that this model predicts $y=1$ if $-3 + x_0+x_1 >= 0$\n",
    "\n",
    "Let's see what this looks like graphically. We'll start by plotting $-3 + x_0+x_1 = 0$, which is equivalent to $x_1 = 3 - x_0$.\n"
   ]
  },
  {
   "cell_type": "code",
   "execution_count": null,
   "id": "f3c4a990",
   "metadata": {},
   "outputs": [],
   "source": [
    "# Choose values between 0 and 6\n",
    "x0 = np.arange(0,6)\n",
    "\n",
    "x1 = 3 - x0\n",
    "fig,ax = plt.subplots(1,1,figsize=(5,4))\n",
    "# Plot the decision boundary\n",
    "ax.plot(x0,x1, c=\"b\")\n",
    "ax.axis([0, 4, 0, 3.5])\n",
    "\n",
    "# Fill the region below the line\n",
    "ax.fill_between(x0,x1, alpha=0.2)\n",
    "\n",
    "# Plot the original data\n",
    "plot_data(X,y,ax)\n",
    "ax.set_ylabel(r'$x_1$')\n",
    "ax.set_xlabel(r'$x_0$')\n",
    "plt.show()"
   ]
  },
  {
   "cell_type": "markdown",
   "id": "dbb5b861",
   "metadata": {},
   "source": [
    "* In the plot above, the blue line represents the line $x_0 + x_1 - 3 = 0$ and it should intersect the x1 axis at 3 (if we set $x_1$ = 3, $x_0$ = 0) and the x0 axis at 3 (if we set $x_1$ = 0, $x_0$ = 3). \n",
    "\n",
    "\n",
    "* The shaded region represents $-3 + x_0+x_1 < 0$. The region above the line is $-3 + x_0+x_1 > 0$.\n",
    "\n",
    "\n",
    "* Any point in the shaded region (under the line) is classified as $y=0$.  Any point on or above the line is classified as $y=1$. This line is known as the \"decision boundary\".\n",
    "\n",
    "As we've seen in the lectures, by using higher order polynomial terms (eg: $f(x) = g( x_0^2 + x_1 -1)$, we can come up with more complex non-linear boundaries."
   ]
  },
  {
   "cell_type": "markdown",
   "id": "cfde5655",
   "metadata": {},
   "source": [
    "## Congratulations!\n",
    "You have explored the decision boundary in the context of logistic regression."
   ]
  },
  {
   "cell_type": "code",
   "execution_count": null,
   "id": "40e0932c",
   "metadata": {},
   "outputs": [],
   "source": []
  },
  {
   "cell_type": "code",
   "execution_count": null,
   "id": "a2ef86f2",
   "metadata": {},
   "outputs": [],
   "source": []
  }
 ],
 "metadata": {
  "kernelspec": {
   "display_name": "Python 3 (ipykernel)",
   "language": "python",
   "name": "python3"
  },
  "language_info": {
   "codemirror_mode": {
    "name": "ipython",
    "version": 3
   },
   "file_extension": ".py",
   "mimetype": "text/x-python",
   "name": "python",
   "nbconvert_exporter": "python",
   "pygments_lexer": "ipython3",
   "version": "3.11.0"
  }
 },
 "nbformat": 4,
 "nbformat_minor": 5
}
